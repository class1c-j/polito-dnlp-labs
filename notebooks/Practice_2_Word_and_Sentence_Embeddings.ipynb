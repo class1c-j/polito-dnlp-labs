{
  "cells": [
    {
      "cell_type": "markdown",
      "metadata": {
        "id": "dbYDu6cchK-l"
      },
      "source": [
        "#**Deep Natural Language Processing @ PoliTO**\n",
        "\n",
        "---\n",
        "\n",
        "\n",
        "**Teaching Assistant:** Lorenzo Vaiani\n",
        "\n",
        "**Credits:** Moreno La Quatra\n",
        "\n",
        "**Practice 2:** Word and Sentence Embeddings"
      ]
    },
    {
      "cell_type": "markdown",
      "metadata": {
        "id": "zbJsg8XEOudF"
      },
      "source": [
        "## Word Embedding\n",
        "\n",
        "![](https://qph.fs.quoracdn.net/main-qimg-3e812fd164a08f5e4f195000fecf988f)\n",
        "\n",
        "\n",
        "**Key takeaways** from lessons and in-class practices:\n",
        "- Word embeddings are able to map words into a semantic-aware vector space\n",
        "- There are multiple architectures for the generation of word embeddings\n",
        "- Each architecture has its advantages and disadvantages\n",
        "- Word embedding evaluation could be intrinsic (intermediate tasks) or extrinsic (downstream task)\n",
        "- It is possible to use pre-trained word embedding models or use large amount of text to train it from scratch\n",
        "- The use of pre-trained word embedding models is a common practice in NLP and removes the need of training a word embedding model from scratch (that could be very time consuming and computationally expensive)\n"
      ]
    },
    {
      "cell_type": "markdown",
      "metadata": {
        "id": "w-9kQCr4P8wP"
      },
      "source": [
        "### **Question 1**\n",
        "\n",
        "Train a new Word2Vec model using gensim with the text8 corpus available in the python package ([reference](https://radimrehurek.com/gensim/downloader.html)). Compute the training time for the model and store it for subsequent steps.\n",
        "\n",
        "**Hint:** you can use the following code to load the text8 corpus:\n",
        "\n",
        "```python\n",
        "import gensim.downloader as api\n",
        "from gensim.models import Word2Vec\n",
        "import time\n",
        "dataset = api.load(\"text8\")\n",
        "```"
      ]
    },
    {
      "cell_type": "code",
      "execution_count": null,
      "metadata": {
        "colab": {
          "base_uri": "https://localhost:8080/"
        },
        "id": "jadmJNAZhUMn",
        "outputId": "d6ce6606-4b2f-42ea-db0d-ce43bef62340"
      },
      "outputs": [
        {
          "name": "stdout",
          "output_type": "stream",
          "text": [
            "Word2Vec model trained on text8. Time elapsed: 130.257670879364 seconds.\n"
          ]
        }
      ],
      "source": [
        "import gensim.downloader as api\n",
        "from gensim.models import Word2Vec, FastText\n",
        "import time\n",
        "\n",
        "dataset = api.load(\"text8\")\n",
        "\n",
        "start = time.time()\n",
        "word2vec_model = Word2Vec(sentences=dataset)\n",
        "end = time.time()\n",
        "\n",
        "elapsed = end - start\n",
        "word2vec_model.save(\"word2vec.model\")\n",
        "print(f\"Word2Vec model trained on text8. Time elapsed: {elapsed} seconds.\")"
      ]
    },
    {
      "cell_type": "markdown",
      "metadata": {
        "id": "Mij5WNAARGMl"
      },
      "source": [
        "### **Question 2**:\n",
        "Perform **intrinsic** evaluation of the model for the task of word analogy by exploiting the data collection available [here](https://raw.githubusercontent.com/MorenoLaQuatra/DeepNLP/main/practices/P2/google_analogies.csv).\n",
        "\n",
        "1. read CSV file\n",
        "2. group analogy entries by type (column: `type`)\n",
        "3. for each type entry (**in the lab, just set type=\"family\"** to reduce the required time) use the first 3 word vectors to compute the fourth\n",
        "    - Entry: `Athens,Greece,Baghdad,Iraq`\n",
        "    - `v(Greece) - v(Athens) + v(Baghdad) = res_v`\n",
        "    - Get the most similar vectors to `res_v`\n",
        "    - Compute in how many cases the correct word is among the top K (if `v[Iraq]` is among the K most similar words) with `K = 1, 3, 5, 10`\n",
        "\n",
        "$top(k) = \\dfrac{\\sum_{i=1}^{N} f(i)}{|E|}$\n",
        "\n",
        "where $f(i) = 1$ if the target word is among the top k and $f(i) = 0$ otherwise.\n",
        "\n",
        "$|E|$ is the total number of entries for the considered type.\n",
        "\n",
        "**Notes:**\n",
        "1. Try with the model trained on `text8`, is there any issue? If yes, how can you solve it?\n",
        "2. Test the model trained on Google News available in gensim."
      ]
    },
    {
      "cell_type": "code",
      "execution_count": null,
      "metadata": {
        "id": "96Cf2L0u5QO3"
      },
      "outputs": [],
      "source": [
        "%%capture\n",
        "! wget https://raw.githubusercontent.com/MorenoLaQuatra/DeepNLP/main/practices/P2/google_analogies.csv\n",
        "! pip install --upgrade pandas"
      ]
    },
    {
      "cell_type": "code",
      "execution_count": null,
      "metadata": {
        "id": "LDPl6w1ob3WX"
      },
      "outputs": [],
      "source": [
        "# Executing this cell could take ~5 minutes\n",
        "import gensim.downloader\n",
        "\n",
        "w2v_google_news_model = gensim.downloader.load(\"word2vec-google-news-300\")"
      ]
    },
    {
      "cell_type": "code",
      "execution_count": null,
      "metadata": {
        "colab": {
          "base_uri": "https://localhost:8080/"
        },
        "id": "q_1nphJpTalX",
        "outputId": "7745afaf-451d-473a-d90e-e503761801fd"
      },
      "outputs": [
        {
          "name": "stdout",
          "output_type": "stream",
          "text": [
            "Accuracy for word2vec (text8) with families dataset: 67.58893280632411%\n"
          ]
        }
      ],
      "source": [
        "import pandas as pd\n",
        "\n",
        "analogies_dataset = pd.read_csv(\"google_analogies.csv\")\n",
        "\n",
        "family_dataset = analogies_dataset[analogies_dataset[\"type\"] == \"family\"]\n",
        "correct = 0\n",
        "\n",
        "for idx, row in family_dataset.iterrows():\n",
        "    word1 = row[\"word1\"]\n",
        "    word2 = row[\"word2\"]\n",
        "    word3 = row[\"word3\"]\n",
        "    target = row[\"target\"]\n",
        "\n",
        "    try:\n",
        "        most_similar_words = word2vec_model.wv.most_similar(\n",
        "            positive=[word2, word3], negative=[word1], topn=10\n",
        "        )\n",
        "    except Exception as e:\n",
        "        # family words may not be present in the model's word vectors\n",
        "        continue\n",
        "\n",
        "    predicted_words = [word for (word, _) in most_similar_words]\n",
        "    if target in predicted_words:\n",
        "        correct += 1\n",
        "\n",
        "print(\n",
        "    f\"Accuracy for word2vec (text8) with families dataset: {100 * correct/len(family_dataset)}%\"\n",
        ")"
      ]
    },
    {
      "cell_type": "code",
      "execution_count": null,
      "metadata": {
        "colab": {
          "base_uri": "https://localhost:8080/"
        },
        "id": "1uMhsI9y2TFM",
        "outputId": "cf0c5974-b777-4cb1-9a06-c477599cb480"
      },
      "outputs": [
        {
          "name": "stdout",
          "output_type": "stream",
          "text": [
            "Accuracy for word2vec (google-news) with families dataset: 97.43083003952569%\n"
          ]
        }
      ],
      "source": [
        "correct = 0\n",
        "\n",
        "for idx, row in family_dataset.iterrows():\n",
        "    word1 = row[\"word1\"]\n",
        "    word2 = row[\"word2\"]\n",
        "    word3 = row[\"word3\"]\n",
        "    target = row[\"target\"]\n",
        "\n",
        "    most_similar_words = w2v_google_news_model.most_similar(\n",
        "        positive=[word2, word3], negative=[word1], topn=10\n",
        "    )\n",
        "\n",
        "    predicted_words = [word for (word, _) in most_similar_words]\n",
        "    if target in predicted_words:\n",
        "        correct += 1\n",
        "\n",
        "print(\n",
        "    f\"Accuracy for word2vec (google-news) with families dataset: {100 * correct/len(family_dataset)}%\"\n",
        ")"
      ]
    },
    {
      "cell_type": "markdown",
      "metadata": {
        "id": "noRDD9hWmyZO"
      },
      "source": [
        "### **Question 3:**\n",
        "\n",
        "Train a new FastText model using gensim with text8 corpus available in the python package ([reference](https://radimrehurek.com/gensim/downloader.html)). Compute the training time for the model and store it for subsequent steps.\n",
        "\n",
        "- Is there any significant difference in training time if compared with Word2Vec training?"
      ]
    },
    {
      "cell_type": "code",
      "execution_count": null,
      "metadata": {
        "colab": {
          "base_uri": "https://localhost:8080/"
        },
        "id": "B7rN6kZ7nWLM",
        "outputId": "bd20a12f-0063-4707-ffbe-7038b972b180"
      },
      "outputs": [
        {
          "name": "stdout",
          "output_type": "stream",
          "text": [
            "Word2Vec model trained on text8. Time elapsed: 999.1348195075989 seconds.\n"
          ]
        }
      ],
      "source": [
        "dataset = api.load(\"text8\")\n",
        "\n",
        "start = time.time()\n",
        "fasttext_model = FastText()\n",
        "fasttext_model.build_vocab(corpus_iterable=dataset)\n",
        "fasttext_model.train(\n",
        "    corpus_iterable=dataset,\n",
        "    total_examples=fasttext_model.corpus_count,\n",
        "    total_words=fasttext_model.corpus_total_words,\n",
        "    epochs=10,\n",
        ")\n",
        "end = time.time()\n",
        "\n",
        "elapsed = end - start\n",
        "fasttext_model.save(\"fasttext.model\")\n",
        "print(f\"Word2Vec model trained on text8. Time elapsed: {elapsed} seconds.\")"
      ]
    },
    {
      "cell_type": "markdown",
      "metadata": {
        "id": "UoAQbgL1oiEM"
      },
      "source": [
        "### **Question 4:**\n",
        "Provide the same evaluation done in Question 2 for the FastText model. In this case, you can use the same type of analogy (family) and the same K values.\n",
        "\n",
        "**Notes:**\n",
        "- Try with the model trained on `text8`, is there any issue? What does it mean?\n",
        "- Test the model trained on Wikipedia+News available in gensim."
      ]
    },
    {
      "cell_type": "code",
      "execution_count": null,
      "metadata": {
        "id": "emMIpsMVsZWe"
      },
      "outputs": [],
      "source": [
        "import gensim.downloader as api"
      ]
    },
    {
      "cell_type": "code",
      "execution_count": null,
      "metadata": {
        "colab": {
          "base_uri": "https://localhost:8080/"
        },
        "id": "wOnGE-I2o_fq",
        "outputId": "0dfee4df-c1e7-4c48-b5db-5e56ee6999c0"
      },
      "outputs": [],
      "source": [
        "# Executing this cell could take ~5 minutes\n",
        "ft_wiki_news_model = api.load('fasttext-wiki-news-subwords-300')"
      ]
    },
    {
      "cell_type": "code",
      "execution_count": null,
      "metadata": {
        "colab": {
          "base_uri": "https://localhost:8080/"
        },
        "id": "eZIapZOSohjg",
        "outputId": "c2a5de8c-170d-4e7f-d073-4996f06eb1f5"
      },
      "outputs": [
        {
          "name": "stdout",
          "output_type": "stream",
          "text": [
            "Accuracy for fasttext (text8) with families dataset: 67.78656126482214%\n"
          ]
        }
      ],
      "source": [
        "correct = 0\n",
        "\n",
        "for idx, row in family_dataset.iterrows():\n",
        "    word1 = row[\"word1\"]\n",
        "    word2 = row[\"word2\"]\n",
        "    word3 = row[\"word3\"]\n",
        "    target = row[\"target\"]\n",
        "\n",
        "    most_similar_words = fasttext_model.wv.most_similar(\n",
        "        positive=[word2, word3], negative=[word1], topn=10\n",
        "    )\n",
        "\n",
        "    predicted_words = [word for (word, _) in most_similar_words]\n",
        "    if target in predicted_words:\n",
        "        correct += 1\n",
        "\n",
        "print(\n",
        "    f\"Accuracy for fasttext (text8) with families dataset: {100 * correct/len(family_dataset)}%\"\n",
        ")"
      ]
    },
    {
      "cell_type": "code",
      "execution_count": null,
      "metadata": {
        "colab": {
          "base_uri": "https://localhost:8080/"
        },
        "id": "83MHIBIk2TFP",
        "outputId": "3d46ac7c-f2a1-48ce-fd06-27f8c4048939"
      },
      "outputs": [
        {
          "name": "stdout",
          "output_type": "stream",
          "text": [
            "Accuracy for fasttext (text8) with families dataset: 98.41897233201581%\n"
          ]
        }
      ],
      "source": [
        "correct = 0\n",
        "\n",
        "for idx, row in family_dataset.iterrows():\n",
        "    word1 = row[\"word1\"]\n",
        "    word2 = row[\"word2\"]\n",
        "    word3 = row[\"word3\"]\n",
        "    target = row[\"target\"]\n",
        "\n",
        "    most_similar_words = ft_wiki_news_model.most_similar(\n",
        "        positive=[word2, word3], negative=[word1], topn=10\n",
        "    )\n",
        "\n",
        "    predicted_words = [word for (word, _) in most_similar_words]\n",
        "    if target in predicted_words:\n",
        "        correct += 1\n",
        "\n",
        "print(\n",
        "    f\"Accuracy for fasttext (ft_wiki_news) with families dataset: {100 * correct/len(family_dataset)}%\"\n",
        ")"
      ]
    },
    {
      "cell_type": "markdown",
      "metadata": {
        "id": "WRneIhkoxV_O"
      },
      "source": [
        "### **Question 5** (optional)\n",
        "\n",
        "Provide a complete evaluation of the best performing models (Word2Vec and FastText) by leveraging the complete dataset of analogy entries. In this case, you should use all the analogy types and all you can use the same K values provided in Question 2."
      ]
    },
    {
      "cell_type": "code",
      "execution_count": null,
      "metadata": {
        "colab": {
          "base_uri": "https://localhost:8080/"
        },
        "id": "RIuWAt5a4jdl",
        "outputId": "2c0ce14a-369d-4b2e-e677-3a5ef4e44834"
      },
      "outputs": [
        {
          "name": "stdout",
          "output_type": "stream",
          "text": [
            "Accuracy for word2vec (text8) with full dataset: 24.43716741711011%\n",
            "Accuracy for fasttext (text8) with full dataset: 41.439828080229226%\n"
          ]
        }
      ],
      "source": [
        "import pandas as pd\n",
        "\n",
        "analogies_dataset = pd.read_csv(\"google_analogies.csv\")\n",
        "\n",
        "correct = 0\n",
        "\n",
        "for idx, row in analogies_dataset.iterrows():\n",
        "    word1 = row[\"word1\"]\n",
        "    word2 = row[\"word2\"]\n",
        "    word3 = row[\"word3\"]\n",
        "    target = row[\"target\"]\n",
        "\n",
        "    try:\n",
        "        most_similar_words = word2vec_model.wv.most_similar(\n",
        "            positive=[word2, word3], negative=[word1], topn=10\n",
        "        )\n",
        "    except Exception as e:\n",
        "        # words may not be present in the model's word vectors\n",
        "        continue\n",
        "\n",
        "    predicted_words = [word for (word, _) in most_similar_words]\n",
        "    if target in predicted_words:\n",
        "        correct += 1\n",
        "\n",
        "print(\n",
        "    f\"Accuracy for word2vec (text8) with full dataset: {100 * correct/len(analogies_dataset)}%\"\n",
        ")\n",
        "\n",
        "correct = 0\n",
        "\n",
        "for idx, row in analogies_dataset.iterrows():\n",
        "    word1 = row[\"word1\"]\n",
        "    word2 = row[\"word2\"]\n",
        "    word3 = row[\"word3\"]\n",
        "    target = row[\"target\"]\n",
        "\n",
        "    most_similar_words = fasttext_model.wv.most_similar(\n",
        "        positive=[word2, word3], negative=[word1], topn=10\n",
        "    )\n",
        "\n",
        "    predicted_words = [word for (word, _) in most_similar_words]\n",
        "    if target in predicted_words:\n",
        "        correct += 1\n",
        "\n",
        "print(\n",
        "    f\"Accuracy for fasttext (text8) with full dataset: {100 * correct/len(analogies_dataset)}%\"\n",
        ")"
      ]
    },
    {
      "cell_type": "markdown",
      "metadata": {
        "id": "k-AuxU7YhU7D"
      },
      "source": [
        "## Sentence Embeddings\n",
        "\n",
        "Sentence embeddings are a way to represent a sentence in a vector space. The vector space is usually learned from a large corpus of text. They are used in many NLP tasks, such as text classification, text similarity, and question answering. In this practice, we will use and interact both with Doc2Vec and InferSent models.\n",
        "\n",
        "Key takeaways from lessons and in-class practices:\n",
        "- Doc2Vec is an extension of the Word2Vec framework.\n",
        "- It incorporates Document ID to obtain a more accurate representation of a document/paragraph.\n",
        "- Training document vectors are pre-computed, however you can infer vectors for new documents.\n",
        "- InferSent exploit a deep learning architecture to supervisedly learn sentence representations.\n",
        "- InferSent vectors could exploit both Word2Vec or FastText as word embedding models."
      ]
    },
    {
      "cell_type": "markdown",
      "metadata": {
        "id": "60_q4G-xyooQ"
      },
      "source": [
        "### **Question 6**\n",
        "\n",
        "Train a novel Doc2Vec model using the [APIs provided by gensim](https://radimrehurek.com/gensim/models/doc2vec.html) with text8 corpus.\n",
        "\n",
        "- Which is the training time for the model? Is it comparable with Word2Vec and FastText training time?\n",
        "\n",
        "NB. **Store** the model to a file for subsequent steps."
      ]
    },
    {
      "cell_type": "code",
      "execution_count": null,
      "metadata": {
        "colab": {
          "base_uri": "https://localhost:8080/"
        },
        "id": "QgyjJaCehmjA",
        "outputId": "7a476eb7-a424-4cab-bdce-02b089a34dbd"
      },
      "outputs": [
        {
          "name": "stderr",
          "output_type": "stream",
          "text": [
            "[nltk_data] Downloading package punkt to /root/nltk_data...\n",
            "[nltk_data]   Package punkt is already up-to-date!\n"
          ]
        },
        {
          "name": "stdout",
          "output_type": "stream",
          "text": [
            "[TaggedDocument(words=['anarchism', 'originated', 'as', 'a', 'term', 'of', 'abuse', 'first', 'used', 'against', 'early', 'working', 'class', 'radicals', 'including', 'the', 'diggers', 'of', 'the', 'english', 'revolution', 'and', 'the', 'sans', 'culottes', 'of', 'the', 'french', 'revolution', 'whilst', 'the', 'term', 'is', 'still', 'used', 'in', 'a', 'pejorative', 'way', 'to', 'describe', 'any', 'act', 'that', 'used', 'violent', 'means', 'to', 'destroy', 'the', 'organization', 'of', 'society', 'it', 'has', 'also', 'been', 'taken', 'up', 'as', 'a', 'positive', 'label', 'by', 'self', 'defined', 'anarchists', 'the', 'word', 'anarchism', 'is', 'derived', 'from', 'the', 'greek', 'without', 'archons', 'ruler', 'chief', 'king', 'anarchism', 'as', 'a', 'political', 'philosophy', 'is', 'the', 'belief', 'that', 'rulers', 'are', 'unnecessary', 'and', 'should', 'be', 'abolished', 'although', 'there', 'are', 'differing', 'interpretations', 'of', 'what', 'this', 'means', 'anarchism', 'also', 'refers', 'to', 'related', 'social', 'movements', 'that', 'advocate', 'the', 'elimination', 'of', 'authoritarian', 'institutions', 'particularly', 'the', 'state', 'the', 'word', 'anarchy', 'as', 'most', 'anarchists', 'use', 'it', 'does', 'not', 'imply', 'chaos', 'nihilism', 'or', 'anomie', 'but', 'rather', 'a', 'harmonious', 'anti', 'authoritarian', 'society', 'in', 'place', 'of', 'what', 'are', 'regarded', 'as', 'authoritarian', 'political', 'structures', 'and', 'coercive', 'economic', 'institutions', 'anarchists', 'advocate', 'social', 'relations', 'based', 'upon', 'voluntary', 'association', 'of', 'autonomous', 'individuals', 'mutual', 'aid', 'and', 'self', 'governance', 'while', 'anarchism', 'is', 'most', 'easily', 'defined', 'by', 'what', 'it', 'is', 'against', 'anarchists', 'also', 'offer', 'positive', 'visions', 'of', 'what', 'they', 'believe', 'to', 'be', 'a', 'truly', 'free', 'society', 'however', 'ideas', 'about', 'how', 'an', 'anarchist', 'society', 'might', 'work', 'vary', 'considerably', 'especially', 'with', 'respect', 'to', 'economics', 'there', 'is', 'also', 'disagreement', 'about', 'how', 'a', 'free', 'society', 'might', 'be', 'brought', 'about', 'origins', 'and', 'predecessors', 'kropotkin', 'and', 'others', 'argue', 'that', 'before', 'recorded', 'history', 'human', 'society', 'was', 'organized', 'on', 'anarchist', 'principles', 'most', 'anthropologists', 'follow', 'kropotkin', 'and', 'engels', 'in', 'believing', 'that', 'hunter', 'gatherer', 'bands', 'were', 'egalitarian', 'and', 'lacked', 'division', 'of', 'labour', 'accumulated', 'wealth', 'or', 'decreed', 'law', 'and', 'had', 'equal', 'access', 'to', 'resources', 'william', 'godwin', 'anarchists', 'including', 'the', 'the', 'anarchy', 'organisation', 'and', 'rothbard', 'find', 'anarchist', 'attitudes', 'in', 'taoism', 'from', 'ancient', 'china', 'kropotkin', 'found', 'similar', 'ideas', 'in', 'stoic', 'zeno', 'of', 'citium', 'according', 'to', 'kropotkin', 'zeno', 'repudiated', 'the', 'omnipotence', 'of', 'the', 'state', 'its', 'intervention', 'and', 'regimentation', 'and', 'proclaimed', 'the', 'sovereignty', 'of', 'the', 'moral', 'law', 'of', 'the', 'individual', 'the', 'anabaptists', 'of', 'one', 'six', 'th', 'century', 'europe', 'are', 'sometimes', 'considered', 'to', 'be', 'religious', 'forerunners', 'of', 'modern', 'anarchism', 'bertrand', 'russell', 'in', 'his', 'history', 'of', 'western', 'philosophy', 'writes', 'that', 'the', 'anabaptists', 'repudiated', 'all', 'law', 'since', 'they', 'held', 'that', 'the', 'good', 'man', 'will', 'be', 'guided', 'at', 'every', 'moment', 'by', 'the', 'holy', 'spirit', 'from', 'this', 'premise', 'they', 'arrive', 'at', 'communism', 'the', 'diggers', 'or', 'true', 'levellers', 'were', 'an', 'early', 'communistic', 'movement', 'during', 'the', 'time', 'of', 'the', 'english', 'civil', 'war', 'and', 'are', 'considered', 'by', 'some', 'as', 'forerunners', 'of', 'modern', 'anarchism', 'in', 'the', 'modern', 'era', 'the', 'first', 'to', 'use', 'the', 'term', 'to', 'mean', 'something', 'other', 'than', 'chaos', 'was', 'louis', 'armand', 'baron', 'de', 'lahontan', 'in', 'his', 'nouveaux', 'voyages', 'dans', 'l', 'am', 'rique', 'septentrionale', 'one', 'seven', 'zero', 'three', 'where', 'he', 'described', 'the', 'indigenous', 'american', 'society', 'which', 'had', 'no', 'state', 'laws', 'prisons', 'priests', 'or', 'private', 'property', 'as', 'being', 'in', 'anarchy', 'russell', 'means', 'a', 'libertarian', 'and', 'leader', 'in', 'the', 'american', 'indian', 'movement', 'has', 'repeatedly', 'stated', 'that', 'he', 'is', 'an', 'anarchist', 'and', 'so', 'are', 'all', 'his', 'ancestors', 'in', 'one', 'seven', 'nine', 'three', 'in', 'the', 'thick', 'of', 'the', 'french', 'revolution', 'william', 'godwin', 'published', 'an', 'enquiry', 'concerning', 'political', 'justice', 'although', 'godwin', 'did', 'not', 'use', 'the', 'word', 'anarchism', 'many', 'later', 'anarchists', 'have', 'regarded', 'this', 'book', 'as', 'the', 'first', 'major', 'anarchist', 'text', 'and', 'godwin', 'as', 'the', 'founder', 'of', 'philosophical', 'anarchism', 'but', 'at', 'this', 'point', 'no', 'anarchist', 'movement', 'yet', 'existed', 'and', 'the', 'term', 'anarchiste', 'was', 'known', 'mainly', 'as', 'an', 'insult', 'hurled', 'by', 'the', 'bourgeois', 'girondins', 'at', 'more', 'radical', 'elements', 'in', 'the', 'french', 'revolution', 'the', 'first', 'self', 'labelled', 'anarchist', 'pierre', 'joseph', 'proudhon', 'it', 'is', 'commonly', 'held', 'that', 'it', 'wasn', 't', 'until', 'pierre', 'joseph', 'proudhon', 'published', 'what', 'is', 'property', 'in', 'one', 'eight', 'four', 'zero', 'that', 'the', 'term', 'anarchist', 'was', 'adopted', 'as', 'a', 'self', 'description', 'it', 'is', 'for', 'this', 'reason', 'that', 'some', 'claim', 'proudhon', 'as', 'the', 'founder', 'of', 'modern', 'anarchist', 'theory', 'in', 'what', 'is', 'property', 'proudhon', 'answers', 'with', 'the', 'famous', 'accusation', 'property', 'is', 'theft', 'in', 'this', 'work', 'he', 'opposed', 'the', 'institution', 'of', 'decreed', 'property', 'propri', 't', 'where', 'owners', 'have', 'complete', 'rights', 'to', 'use', 'and', 'abuse', 'their', 'property', 'as', 'they', 'wish', 'such', 'as', 'exploiting', 'workers', 'for', 'profit', 'in', 'its', 'place', 'proudhon', 'supported', 'what', 'he', 'called', 'possession', 'individuals', 'can', 'have', 'limited', 'rights', 'to', 'use', 'resources', 'capital', 'and', 'goods', 'in', 'accordance', 'with', 'principles', 'of', 'equality', 'and', 'justice', 'proudhon', 's', 'vision', 'of', 'anarchy', 'which', 'he', 'called', 'mutualism', 'mutuellisme', 'involved', 'an', 'exchange', 'economy', 'where', 'individuals', 'and', 'groups', 'could', 'trade', 'the', 'products', 'of', 'their', 'labor', 'using', 'labor', 'notes', 'which', 'represented', 'the', 'amount', 'of', 'working', 'time', 'involved', 'in', 'production', 'this', 'would', 'ensure', 'that', 'no', 'one', 'would', 'profit', 'from', 'the', 'labor', 'of', 'others', 'workers', 'could', 'freely', 'join', 'together', 'in', 'co', 'operative', 'workshops', 'an', 'interest', 'free', 'bank', 'would', 'be', 'set', 'up', 'to', 'provide', 'everyone', 'with', 'access', 'to', 'the', 'means', 'of', 'production', 'proudhon', 's', 'ideas', 'were', 'influential', 'within', 'french', 'working', 'class', 'movements', 'and', 'his', 'followers', 'were', 'active', 'in', 'the', 'revolution', 'of', 'one', 'eight', 'four', 'eight', 'in', 'france', 'proudhon', 's', 'philosophy', 'of', 'property', 'is', 'complex', 'it', 'was', 'developed', 'in', 'a', 'number', 'of', 'works', 'over', 'his', 'lifetime', 'and', 'there', 'are', 'differing', 'interpretations', 'of', 'some', 'of', 'his', 'ideas', 'for', 'more', 'detailed', 'discussion', 'see', 'here', 'max', 'stirner', 's', 'egoism', 'in', 'his', 'the', 'ego', 'and', 'its', 'own', 'stirner', 'argued', 'that', 'most', 'commonly', 'accepted', 'social', 'institutions', 'including', 'the', 'notion', 'of', 'state', 'property', 'as', 'a', 'right', 'natural', 'rights', 'in', 'general', 'and', 'the', 'very', 'notion', 'of', 'society', 'were', 'mere', 'illusions', 'or', 'ghosts', 'in', 'the', 'mind', 'saying', 'of', 'society', 'that', 'the', 'individuals', 'are', 'its', 'reality', 'he', 'advocated', 'egoism', 'and', 'a', 'form', 'of', 'amoralism', 'in', 'which', 'individuals', 'would', 'unite', 'in', 'associations', 'of', 'egoists', 'only', 'when', 'it', 'was', 'in', 'their', 'self', 'interest', 'to', 'do', 'so', 'for', 'him', 'property', 'simply', 'comes', 'about', 'through', 'might', 'whoever', 'knows', 'how', 'to', 'take', 'to', 'defend', 'the', 'thing', 'to', 'him', 'belongs', 'property', 'and', 'what', 'i', 'have', 'in', 'my', 'power', 'that', 'is', 'my', 'own', 'so', 'long', 'as', 'i', 'assert', 'myself', 'as', 'holder', 'i', 'am', 'the', 'proprietor', 'of', 'the', 'thing', 'stirner', 'never', 'called', 'himself', 'an', 'anarchist', 'he', 'accepted', 'only', 'the', 'label', 'egoist', 'nevertheless', 'his', 'ideas', 'were', 'influential', 'on', 'many', 'individualistically', 'inclined', 'anarchists', 'although', 'interpretations', 'of', 'his', 'thought', 'are', 'diverse', 'american', 'individualist', 'anarchism', 'benjamin', 'tucker', 'in', 'one', 'eight', 'two', 'five', 'josiah', 'warren', 'had', 'participated', 'in', 'a', 'communitarian', 'experiment', 'headed', 'by', 'robert', 'owen', 'called', 'new', 'harmony', 'which', 'failed', 'in', 'a', 'few', 'years', 'amidst', 'much', 'internal', 'conflict', 'warren', 'blamed', 'the', 'community', 's', 'failure', 'on', 'a', 'lack', 'of', 'individual', 'sovereignty', 'and', 'a', 'lack', 'of', 'private', 'property', 'warren', 'proceeded', 'to', 'organise', 'experimenal', 'anarchist', 'communities', 'which', 'respected', 'what', 'he', 'called', 'the', 'sovereignty', 'of', 'the', 'individual', 'at', 'utopia', 'and', 'modern', 'times', 'in', 'one', 'eight', 'three', 'three', 'warren', 'wrote', 'and', 'published', 'the', 'peaceful', 'revolutionist', 'which', 'some', 'have', 'noted', 'to', 'be', 'the', 'first', 'anarchist', 'periodical', 'ever', 'published', 'benjamin', 'tucker', 'says', 'that', 'warren', 'was', 'the', 'first', 'man', 'to', 'expound', 'and', 'formulate', 'the', 'doctrine', 'now', 'known', 'as', 'anarchism', 'liberty', 'xiv', 'december', 'one', 'nine', 'zero', 'zero', 'one', 'benjamin', 'tucker', 'became', 'interested', 'in', 'anarchism', 'through', 'meeting', 'josiah', 'warren', 'and', 'william', 'b', 'greene', 'he', 'edited', 'and', 'published', 'liberty', 'from', 'august', 'one', 'eight', 'eight', 'one', 'to', 'april', 'one', 'nine', 'zero', 'eight', 'it', 'is', 'widely', 'considered', 'to', 'be', 'the', 'finest', 'individualist', 'anarchist', 'periodical', 'ever', 'issued', 'in', 'the', 'english', 'language', 'tucker', 's', 'conception', 'of', 'individualist', 'anarchism', 'incorporated', 'the', 'ideas', 'of', 'a', 'variety', 'of', 'theorists', 'greene', 's', 'ideas', 'on', 'mutual', 'banking', 'warren', 's', 'ideas', 'on', 'cost', 'as', 'the', 'limit', 'of', 'price', 'a', 'heterodox', 'variety', 'of', 'labour', 'theory', 'of', 'value', 'proudhon', 's', 'market', 'anarchism', 'max', 'stirner', 's', 'egoism', 'and', 'herbert', 'spencer', 's', 'law', 'of', 'equal', 'freedom', 'tucker', 'strongly', 'supported', 'the', 'individual', 's', 'right', 'to', 'own', 'the', 'product', 'of', 'his', 'or', 'her', 'labour', 'as', 'private', 'property', 'and', 'believed', 'in', 'a', 'market', 'economy', 'for', 'trading', 'this', 'property', 'he', 'argued', 'that', 'in', 'a', 'truly', 'free', 'market', 'system', 'without', 'the', 'state', 'the', 'abundance', 'of', 'competition', 'would', 'eliminate', 'profits', 'and', 'ensure', 'that', 'all', 'workers', 'received', 'the', 'full', 'value', 'of', 'their', 'labor', 'other', 'one', 'nine', 'th', 'century', 'individualists', 'included', 'lysander', 'spooner', 'stephen', 'pearl', 'andrews', 'and', 'victor', 'yarros', 'the', 'first', 'international', 'mikhail', 'bakunin', 'one', 'eight', 'one', 'four', 'one', 'eight', 'seven', 'six', 'in', 'europe', 'harsh', 'reaction', 'followed', 'the', 'revolutions', 'of', 'one', 'eight', 'four', 'eight', 'twenty', 'years', 'later', 'in', 'one', 'eight', 'six', 'four', 'the', 'international', 'workingmen', 's', 'association', 'sometimes', 'called', 'the', 'first', 'international', 'united', 'some', 'diverse', 'european', 'revolutionary', 'currents', 'including', 'anarchism', 'due', 'to', 'its', 'genuine', 'links', 'to', 'active', 'workers', 'movements', 'the', 'international', 'became', 'signficiant', 'from', 'the', 'start', 'karl', 'marx', 'was', 'a', 'leading', 'figure', 'in', 'the', 'international', 'he', 'was', 'elected', 'to', 'every', 'succeeding', 'general', 'council', 'of', 'the', 'association', 'the', 'first', 'objections', 'to', 'marx', 'came', 'from', 'the', 'mutualists', 'who', 'opposed', 'communism', 'and', 'statism', 'shortly', 'after', 'mikhail', 'bakunin', 'and', 'his', 'followers', 'joined', 'in', 'one', 'eight', 'six', 'eight', 'the', 'first', 'international', 'became', 'polarised', 'into', 'two', 'camps', 'with', 'marx', 'and', 'bakunin', 'as', 'their', 'respective', 'figureheads', 'the', 'clearest', 'difference', 'between', 'the', 'camps', 'was', 'over', 'strategy', 'the', 'anarchists', 'around', 'bakunin', 'favoured', 'in', 'kropotkin', 's', 'words', 'direct', 'economical', 'struggle', 'against', 'capitalism', 'without', 'interfering', 'in', 'the', 'political', 'parliamentary', 'agitation', 'at', 'that', 'time', 'marx', 'and', 'his', 'followers', 'focused', 'on', 'parliamentary', 'activity', 'bakunin', 'characterised', 'marx', 's', 'ideas', 'as', 'authoritarian', 'and', 'predicted', 'that', 'if', 'a', 'marxist', 'party', 'gained', 'to', 'power', 'its', 'leaders', 'would', 'end', 'up', 'as', 'bad', 'as', 'the', 'ruling', 'class', 'they', 'had', 'fought', 'against', 'in', 'one', 'eight', 'seven', 'two', 'the', 'conflict', 'climaxed', 'with', 'a', 'final', 'split', 'between', 'the', 'two', 'groups', 'at', 'the', 'hague', 'congress', 'this', 'is', 'often', 'cited', 'as', 'the', 'origin', 'of', 'the', 'conflict', 'between', 'anarchists', 'and', 'marxists', 'from', 'this', 'moment', 'the', 'social', 'democratic', 'and', 'libertarian', 'currents', 'of', 'socialism', 'had', 'distinct', 'organisations', 'including', 'rival', 'internationals', 'anarchist', 'communism', 'peter', 'kropotkin', 'proudhon', 'and', 'bakunin', 'both', 'opposed', 'communism', 'associating', 'it', 'with', 'statism', 'however', 'in', 'the', 'one', 'eight', 'seven', 'zero', 's', 'many', 'anarchists', 'moved', 'away', 'from', 'bakunin', 's', 'economic', 'thinking', 'called', 'collectivism', 'and', 'embraced', 'communist', 'concepts', 'communists', 'believed', 'the', 'means', 'of', 'production', 'should', 'be', 'owned', 'collectively', 'and', 'that', 'goods', 'be', 'distributed', 'by', 'need', 'not', 'labor', 'an', 'early', 'anarchist', 'communist', 'was', 'joseph', 'd', 'jacque', 'the', 'first', 'person', 'to', 'describe', 'himself', 'as', 'libertarian', 'unlike', 'proudhon', 'he', 'argued', 'that', 'it', 'is', 'not', 'the', 'product', 'of', 'his', 'or', 'her', 'labor', 'that', 'the', 'worker', 'has', 'a', 'right', 'to', 'but', 'to', 'the', 'satisfaction', 'of', 'his', 'or', 'her', 'needs', 'whatever', 'may', 'be', 'their', 'nature', 'he', 'announced', 'his', 'ideas', 'in', 'his', 'us', 'published', 'journal', 'le', 'libertaire', 'one', 'eight', 'five', 'eight', 'one', 'eight', 'six', 'one', 'peter', 'kropotkin', 'often', 'seen', 'as', 'the', 'most', 'important', 'theorist', 'outlined', 'his', 'economic', 'ideas', 'in', 'the', 'conquest', 'of', 'bread', 'and', 'fields', 'factories', 'and', 'workshops', 'he', 'felt', 'co', 'operation', 'is', 'more', 'beneficial', 'than', 'competition', 'illustrated', 'in', 'nature', 'in', 'mutual', 'aid', 'a', 'factor', 'of', 'evolution', 'one', 'eight', 'nine', 'seven', 'subsequent', 'anarchist', 'communists', 'include', 'emma', 'goldman', 'and', 'alexander', 'berkman', 'many', 'in', 'the', 'anarcho', 'syndicalist', 'movements', 'see', 'below', 'saw', 'anarchist', 'communism', 'as', 'their', 'objective', 'isaac', 'puente', 's', 'one', 'nine', 'three', 'two', 'comunismo', 'libertario', 'was', 'adopted', 'by', 'the', 'spanish', 'cnt', 'as', 'its', 'manifesto', 'for', 'a', 'post', 'revolutionary', 'society', 'some', 'anarchists', 'disliked', 'merging', 'communism', 'with', 'anarchism', 'several', 'individualist', 'anarchists', 'maintained', 'that', 'abolition', 'of', 'private', 'property', 'was', 'not', 'consistent', 'with', 'liberty', 'for', 'example', 'benjamin', 'tucker', 'whilst', 'professing', 'respect', 'for', 'kropotkin', 'and', 'publishing', 'his', 'work', 'described', 'communist', 'anarchism', 'as', 'pseudo', 'anarchism', 'propaganda', 'of', 'the', 'deed', 'johann', 'most', 'was', 'an', 'outspoken', 'advocate', 'of', 'violence', 'anarchists', 'have', 'often', 'been', 'portrayed', 'as', 'dangerous', 'and', 'violent', 'due', 'mainly', 'to', 'a', 'number', 'of', 'high', 'profile', 'violent', 'acts', 'including', 'riots', 'assassinations', 'insurrections', 'and', 'terrorism', 'by', 'some', 'anarchists', 'some', 'revolutionaries', 'of', 'the', 'late', 'one', 'nine', 'th', 'century', 'encouraged', 'acts', 'of', 'political', 'violence', 'such', 'as', 'bombings', 'and', 'the', 'assassinations', 'of', 'heads', 'of', 'state', 'to', 'further', 'anarchism', 'such', 'actions', 'have', 'sometimes', 'been', 'called', 'propaganda', 'by', 'the', 'deed', 'one', 'of', 'the', 'more', 'outspoken', 'advocates', 'of', 'this', 'strategy', 'was', 'johann', 'most', 'who', 'said', 'the', 'existing', 'system', 'will', 'be', 'quickest', 'and', 'most', 'radically', 'overthrown', 'by', 'the', 'annihilation', 'of', 'its', 'exponents', 'therefore', 'massacres', 'of', 'the', 'enemies', 'of', 'the', 'people', 'must', 'be', 'set', 'in', 'motion', 'most', 's', 'preferred', 'method', 'of', 'terrorism', 'dynamite', 'earned', 'him', 'the', 'moniker', 'dynamost', 'however', 'there', 'is', 'no', 'consensus', 'on', 'the', 'legitimacy', 'or', 'utility', 'of', 'violence', 'in', 'general', 'mikhail', 'bakunin', 'and', 'errico', 'malatesta', 'for', 'example', 'wrote', 'of', 'violence', 'as', 'a', 'necessary', 'and', 'sometimes', 'desirable', 'force', 'in', 'revolutionary', 'settings', 'but', 'at', 'the', 'same', 'time', 'they', 'denounced', 'acts', 'of', 'individual', 'terrorism', 'malatesta', 'in', 'on', 'violence', 'and', 'bakunin', 'when', 'he', 'refuted', 'nechaev', 'other', 'anarchists', 'sometimes', 'identified', 'as', 'pacifist', 'anarchists', 'advocated', 'complete', 'nonviolence', 'leo', 'tolstoy', 'whose', 'philosophy', 'is', 'often', 'viewed', 'as', 'a', 'form', 'of', 'christian', 'anarchism', 'see', 'below', 'was', 'a', 'notable', 'exponent', 'of', 'nonviolent', 'resistance', 'anarchism', 'in', 'the', 'labour', 'movement', 'the', 'red', 'and', 'black', 'flag', 'coming', 'from', 'the', 'experience', 'of', 'anarchists', 'in', 'the', 'labour', 'movement', 'is', 'particularly', 'associated', 'with', 'anarcho', 'syndicalism', 'anarcho', 'syndicalism', 'was', 'an', 'early', 'two', 'zero', 'th', 'century', 'working', 'class', 'movement', 'seeking', 'to', 'overthrow', 'capitalism', 'and', 'the', 'state', 'to', 'institute', 'a', 'worker', 'controlled', 'society', 'the', 'movement', 'pursued', 'industrial', 'actions', 'such', 'as', 'general', 'strike', 'as', 'a', 'primary', 'strategy', 'many', 'anarcho', 'syndicalists', 'believed', 'in', 'anarchist', 'communism', 'though', 'not', 'all', 'communists', 'believed', 'in', 'syndicalism', 'after', 'the', 'one', 'eight', 'seven', 'one', 'repression', 'french', 'anarchism', 'reemerged', 'influencing', 'the', 'bourses', 'de', 'travails', 'of', 'autonomous', 'workers', 'groups', 'and', 'trade', 'unions', 'from', 'this', 'movement', 'the', 'conf', 'd', 'ration', 'g', 'n', 'rale', 'du', 'travail', 'general', 'confederation', 'of', 'work', 'cgt', 'was', 'formed', 'in', 'one', 'eight', 'nine', 'five', 'as', 'the', 'first', 'major', 'anarcho', 'syndicalist', 'movement', 'emile', 'pataud', 'and', 'emile', 'pouget', 's', 'writing', 'for', 'the', 'cgt', 'saw', 'libertarian', 'communism', 'developing', 'from', 'a', 'general', 'strike', 'after', 'one', 'nine', 'one', 'four', 'the', 'cgt', 'moved', 'away', 'from', 'anarcho', 'syndicalism', 'due', 'to', 'the', 'appeal', 'of', 'bolshevism', 'french', 'style', 'syndicalism', 'was', 'a', 'significant', 'movement', 'in', 'europe', 'prior', 'to', 'one', 'nine', 'two', 'one', 'and', 'remained', 'a', 'significant', 'movement', 'in', 'spain', 'until', 'the', 'mid', 'one', 'nine', 'four', 'zero', 's', 'the', 'industrial', 'workers', 'of', 'the', 'world', 'iww', 'founded', 'in', 'one', 'nine', 'zero', 'five', 'in', 'the', 'us', 'espoused', 'unionism', 'and', 'sought', 'a', 'general', 'strike', 'to', 'usher', 'in', 'a', 'stateless', 'society', 'in', 'one', 'nine', 'two', 'three', 'one', 'zero', 'zero', 'zero', 'zero', 'zero', 'members', 'existed', 'with', 'the', 'support', 'of', 'up', 'to', 'three', 'zero', 'zero', 'zero', 'zero', 'zero', 'though', 'not', 'explicitly', 'anarchist', 'they', 'organized', 'by', 'rank', 'and', 'file', 'democracy', 'embodying', 'a', 'spirit', 'of', 'resistance', 'that', 'has', 'inspired', 'many', 'anglophone', 'syndicalists', 'cnt', 'propaganda', 'from', 'april', 'two', 'zero', 'zero', 'four', 'reads', 'don', 't', 'let', 'the', 'politicians', 'rule', 'our', 'lives', 'you', 'vote', 'and', 'they', 'decide', 'don', 't', 'allow', 'it', 'unity', 'action', 'self', 'management', 'spanish', 'anarchist', 'trade', 'union', 'federations', 'were', 'formed', 'in', 'the', 'one', 'eight', 'seven', 'zero', 's', 'one', 'nine', 'zero', 'zero', 'and', 'one', 'nine', 'one', 'zero', 'the', 'most', 'successful', 'was', 'the', 'confederaci', 'n', 'nacional', 'del', 'trabajo', 'national', 'confederation', 'of', 'labour', 'cnt', 'founded', 'in', 'one', 'nine', 'one', 'zero', 'prior', 'to', 'the', 'one', 'nine', 'four', 'zero', 's', 'the', 'cnt', 'was', 'the', 'major', 'force', 'in', 'spanish', 'working', 'class', 'politics', 'with', 'a', 'membership', 'of', 'one', 'five', 'eight', 'million', 'in', 'one', 'nine', 'three', 'four', 'the', 'cnt', 'played', 'a', 'major', 'role', 'in', 'the', 'spanish', 'civil', 'war', 'see', 'also', 'anarchism', 'in', 'spain', 'syndicalists', 'like', 'ricardo', 'flores', 'mag', 'n', 'were', 'key', 'figures', 'in', 'the', 'mexican', 'revolution', 'latin', 'american', 'anarchism', 'was', 'strongly', 'influenced', 'extending', 'to', 'the', 'zapatista', 'rebellion', 'and', 'the', 'factory', 'occupation', 'movements', 'in', 'argentina', 'in', 'berlin', 'in', 'one', 'nine', 'two', 'two', 'the', 'cnt', 'was', 'joined', 'with', 'the', 'international', 'workers', 'association', 'an', 'anarcho', 'syndicalist', 'successor', 'to', 'the', 'first', 'international', 'contemporary', 'anarcho', 'syndicalism', 'continues', 'as', 'a', 'minor', 'force', 'in', 'many', 'socities', 'much', 'smaller', 'than', 'in', 'the', 'one', 'nine', 'one', 'zero', 's', 'two', 'zero', 's', 'and', 'three', 'zero', 's', 'the', 'largest', 'organised', 'anarchist', 'movement', 'today', 'is', 'in', 'spain', 'in', 'the', 'form', 'of', 'the', 'confederaci', 'n', 'general', 'del', 'trabajo', 'and', 'the', 'cnt', 'the', 'cgt', 'claims', 'a', 'paid', 'up', 'membership', 'of', 'six', 'zero', 'zero', 'zero', 'zero', 'and', 'received', 'over', 'a', 'million', 'votes', 'in', 'spanish', 'syndical', 'elections', 'other', 'active', 'syndicalist', 'movements', 'include', 'the', 'us', 'workers', 'solidarity', 'alliance', 'and', 'the', 'uk', 'solidarity', 'federation', 'the', 'revolutionary', 'industrial', 'unionist', 'industrial', 'workers', 'of', 'the', 'world', 'also', 'exists', 'claiming', 'two', 'zero', 'zero', 'zero', 'paid', 'members', 'contemporary', 'critics', 'of', 'anarcho', 'syndicalism', 'and', 'revolutionary', 'industrial', 'unionism', 'claim', 'that', 'they', 'are', 'workerist', 'and', 'fail', 'to', 'deal', 'with', 'economic', 'life', 'outside', 'work', 'post', 'leftist', 'critics', 'such', 'as', 'bob', 'black', 'claim', 'anarcho', 'syndicalism', 'advocates', 'oppressive', 'social', 'structures', 'such', 'as', 'work', 'and', 'the', 'workplace', 'anarcho', 'syndicalists', 'in', 'general', 'uphold', 'principles', 'of', 'workers', 'solidarity', 'direct', 'action', 'and', 'self', 'management', 'the', 'russian', 'revolution', 'the', 'russian', 'revolution', 'of', 'one', 'nine', 'one', 'seven', 'was', 'a', 'seismic', 'event', 'in', 'the', 'development', 'of', 'anarchism', 'as', 'a', 'movement', 'and', 'as', 'a', 'philosophy', 'anarchists', 'participated', 'alongside', 'the', 'bolsheviks', 'in', 'both', 'february', 'and', 'october', 'revolutions', 'many', 'anarchists', 'initially', 'supporting', 'the', 'bolshevik', 'coup', 'however', 'the', 'bolsheviks', 'soon', 'turned', 'against', 'the', 'anarchists', 'and', 'other', 'left', 'wing', 'opposition', 'a', 'conflict', 'which', 'culminated', 'in', 'the', 'one', 'nine', 'one', 'eight', 'kronstadt', 'rebellion', 'anarchists', 'in', 'central', 'russia', 'were', 'imprisoned', 'or', 'driven', 'underground', 'or', 'joined', 'the', 'victorious', 'bolsheviks', 'in', 'ukraine', 'anarchists', 'fought', 'in', 'the', 'civil', 'war', 'against', 'both', 'whites', 'and', 'bolsheviks', 'within', 'the', 'makhnovshchina', 'peasant', 'army', 'led', 'by', 'nestor', 'makhno', 'expelled', 'american', 'anarchists', 'emma', 'goldman', 'and', 'alexander', 'berkman', 'before', 'leaving', 'russia', 'were', 'amongst', 'those', 'agitating', 'in', 'response', 'to', 'bolshevik', 'policy', 'and', 'the', 'suppression', 'of', 'the', 'kronstadt', 'uprising', 'both', 'wrote', 'classic', 'accounts', 'of', 'their', 'experiences', 'in', 'russia', 'aiming', 'to', 'expose', 'the', 'reality', 'of', 'bolshevik', 'control', 'for', 'them', 'bakunin', 's', 'predictions', 'about', 'the', 'consequences', 'of', 'marxist', 'rule', 'had', 'proved', 'all', 'too', 'true', 'the', 'victory', 'of', 'the', 'bolsheviks', 'in', 'the', 'october', 'revolution', 'and', 'the', 'resulting', 'russian', 'civil', 'war', 'did', 'serious', 'damage', 'to', 'anarchist', 'movements', 'internationally', 'many', 'workers', 'and', 'activists', 'saw', 'bolshevik', 'success', 'as', 'setting', 'an', 'example', 'communist', 'parties', 'grew', 'at', 'the', 'expense', 'of', 'anarchism', 'and', 'other', 'socialist', 'movements', 'in', 'france', 'and', 'the', 'us', 'for', 'example', 'the', 'major', 'syndicalist', 'movements', 'of', 'the', 'cgt', 'and', 'iww', 'began', 'to', 'realign', 'themselves', 'away', 'from', 'anarchism', 'and', 'towards', 'the', 'communist', 'international', 'in', 'paris', 'the', 'dielo', 'truda', 'group', 'of', 'russian', 'anarchist', 'exiles', 'which', 'included', 'nestor', 'makhno', 'concluded', 'that', 'anarchists', 'needed', 'to', 'develop', 'new', 'forms', 'of', 'organisation', 'in', 'response', 'to', 'the', 'structures', 'of', 'bolshevism', 'their', 'one', 'nine', 'two', 'six', 'manifesto', 'known', 'as', 'the', 'organisational', 'platform', 'of', 'the', 'libertarian', 'communists', 'was', 'supported', 'by', 'some', 'communist', 'anarchists', 'though', 'opposed', 'by', 'many', 'others', 'the', 'platform', 'continues', 'to', 'inspire', 'some', 'contemporary', 'anarchist', 'groups', 'who', 'believe', 'in', 'an', 'anarchist', 'movement', 'organised', 'around', 'its', 'principles', 'of', 'theoretical', 'unity', 'tactical', 'unity', 'collective', 'responsibility', 'and', 'federalism', 'platformist', 'groups', 'today', 'include', 'the', 'workers', 'solidarity', 'movement', 'in', 'ireland', 'the', 'uk', 's', 'anarchist', 'federation', 'and', 'the', 'late', 'north', 'eastern', 'federation', 'of', 'anarchist', 'communists', 'in', 'the', 'northeastern', 'united', 'states', 'and', 'bordering', 'canada', 'the', 'fight', 'against', 'fascism', 'spain', 'one', 'nine', 'three', 'six', 'members', 'of', 'the', 'cnt', 'construct', 'armoured', 'cars', 'to', 'fight', 'against', 'the', 'fascists', 'in', 'one', 'of', 'the', 'collectivised', 'factories', 'in', 'the', 'one', 'nine', 'two', 'zero', 's', 'and', 'one', 'nine', 'three', 'zero', 's', 'the', 'familiar', 'dynamics', 'of', 'anarchism', 's', 'conflict', 'with', 'the', 'state', 'were', 'transformed', 'by', 'the', 'rise', 'of', 'fascism', 'in', 'europe', 'in', 'many', 'cases', 'european', 'anarchists', 'faced', 'difficult', 'choices', 'should', 'they', 'join', 'in', 'popular', 'fronts', 'with', 'reformist', 'democrats', 'and', 'soviet', 'led', 'communists', 'against', 'a', 'common', 'fascist', 'enemy', 'luigi', 'fabbri', 'an', 'exile', 'from', 'italian', 'fascism', 'was', 'amongst', 'those', 'arguing', 'that', 'fascism', 'was', 'something', 'different', 'fascism', 'is', 'not', 'just', 'another', 'form', 'of', 'government', 'which', 'like', 'all', 'others', 'uses', 'violence', 'it', 'is', 'the', 'most', 'authoritarian', 'and', 'the', 'most', 'violent', 'form', 'of', 'government', 'imaginable', 'it', 'represents', 'the', 'utmost', 'glorification', 'of', 'the', 'theory', 'and', 'practice', 'of', 'the', 'principle', 'of', 'authority', 'in', 'france', 'where', 'the', 'fascists', 'came', 'close', 'to', 'insurrection', 'in', 'the', 'february', 'one', 'nine', 'three', 'four', 'riots', 'anarchists', 'divided', 'over', 'a', 'united', 'front', 'policy', 'in', 'spain', 'the', 'cnt', 'initially', 'refused', 'to', 'join', 'a', 'popular', 'front', 'electoral', 'alliance', 'and', 'abstention', 'by', 'cnt', 'supporters', 'led', 'to', 'a', 'right', 'wing', 'election', 'victory', 'but', 'in', 'one', 'nine', 'three', 'six', 'the', 'cnt', 'changed', 'its', 'policy', 'and', 'anarchist', 'votes', 'helped', 'bring', 'the', 'popular', 'front', 'back', 'to', 'power', 'months', 'later', 'the', 'ruling', 'class', 'responded', 'with', 'an', 'attempted', 'coup', 'and', 'the', 'spanish', 'civil', 'war', 'one', 'nine', 'three', 'six', 'three', 'nine', 'was', 'underway', 'in', 'reponse', 'to', 'the', 'army', 'rebellion', 'an', 'anarchist', 'inspired', 'movement', 'of', 'peasants', 'and', 'workers', 'supported', 'by', 'armed', 'militias', 'took', 'control', 'of', 'the', 'major', 'city', 'of', 'barcelona', 'and', 'of', 'large', 'areas', 'of', 'rural', 'spain', 'where', 'they', 'collectivized', 'the', 'land', 'but', 'even', 'before', 'the', 'eventual', 'fascist', 'victory', 'in', 'one', 'nine', 'three', 'nine', 'the', 'anarchists', 'were', 'losing', 'ground', 'in', 'a', 'bitter', 'struggle', 'with', 'the', 'stalinists', 'the', 'cnt', 'leadership', 'often', 'appeared', 'confused', 'and', 'divided', 'with', 'some', 'members', 'controversially', 'entering', 'the', 'government', 'stalinist', 'led', 'troops', 'suppressed', 'the', 'collectives', 'and', 'persecuted', 'both', 'dissident', 'marxists', 'and', 'anarchists', 'since', 'the', 'late', 'one', 'nine', 'seven', 'zero', 's', 'anarchists', 'have', 'been', 'involved', 'in', 'fighting', 'the', 'rise', 'of', 'neo', 'fascist', 'groups', 'in', 'germany', 'and', 'the', 'united', 'kingdom', 'some', 'anarchists', 'worked', 'within', 'militant', 'anti', 'fascist', 'groups', 'alongside', 'members', 'of', 'the', 'marxist', 'left', 'they', 'advocated', 'directly', 'combating', 'fascists', 'with', 'physical', 'force', 'rather', 'than', 'relying', 'on', 'the', 'state', 'since', 'the', 'late', 'one', 'nine', 'nine', 'zero', 's', 'a', 'similar', 'tendency', 'has', 'developed', 'within', 'us', 'anarchism', 'see', 'also', 'anti', 'racist', 'action', 'us', 'anti', 'fascist', 'action', 'uk', 'antifa', 'religious', 'anarchism', 'leo', 'tolstoy', 'one', 'eight', 'two', 'eight', 'one', 'nine', 'one', 'zero', 'most', 'anarchist', 'culture', 'tends', 'to', 'be', 'secular', 'if', 'not', 'outright', 'anti', 'religious', 'however', 'the', 'combination', 'of', 'religious', 'social', 'conscience', 'historical', 'religiousity', 'amongst', 'oppressed', 'social', 'classes', 'and', 'the', 'compatibility', 'of', 'some', 'interpretations', 'of', 'religious', 'traditions', 'with', 'anarchism', 'has', 'resulted', 'in', 'religious', 'anarchism', 'christian', 'anarchists', 'believe', 'that', 'there', 'is', 'no', 'higher', 'authority', 'than', 'god', 'and', 'oppose', 'earthly', 'authority', 'such', 'as', 'government', 'and', 'established', 'churches', 'they', 'believe', 'that', 'jesus', 'teachings', 'were', 'clearly', 'anarchistic', 'but', 'were', 'corrupted', 'when', 'christianity', 'was', 'declared', 'the', 'official', 'religion', 'of', 'rome', 'christian', 'anarchists', 'who', 'follow', 'jesus', 'directive', 'to', 'turn', 'the', 'other', 'cheek', 'are', 'strict', 'pacifists', 'the', 'most', 'famous', 'advocate', 'of', 'christian', 'anarchism', 'was', 'leo', 'tolstoy', 'author', 'of', 'the', 'kingdom', 'of', 'god', 'is', 'within', 'you', 'who', 'called', 'for', 'a', 'society', 'based', 'on', 'compassion', 'nonviolent', 'principles', 'and', 'freedom', 'christian', 'anarchists', 'tend', 'to', 'form', 'experimental', 'communities', 'they', 'also', 'occasionally', 'resist', 'taxation', 'many', 'christian', 'anarchists', 'are', 'vegetarian', 'or', 'vegan', 'christian', 'anarchy', 'can', 'be', 'said', 'to', 'have', 'roots', 'as', 'old', 'as', 'the', 'religion', 's', 'birth', 'as', 'the', 'early', 'church', 'exhibits', 'many', 'anarchistic', 'tendencies', 'such', 'as', 'communal', 'goods', 'and', 'wealth', 'by', 'aiming', 'to', 'obey', 'utterly', 'certain', 'of', 'the', 'bible', 's', 'teachings', 'certain', 'anabaptist', 'groups', 'of', 'sixteenth', 'century', 'europe', 'attempted', 'to', 'emulate', 'the', 'early', 'church', 's', 'social', 'economic', 'organisation', 'and', 'philosophy', 'by', 'regarding', 'it', 'as', 'the', 'only', 'social', 'structure', 'capable', 'of', 'true', 'obediance', 'to', 'jesus', 'teachings', 'and', 'utterly', 'rejected', 'in', 'theory', 'all', 'earthly', 'hierarchies', 'and', 'authority', 'and', 'indeed', 'non', 'anabaptists', 'in', 'general', 'and', 'violence', 'as', 'ungodly', 'such', 'groups', 'for', 'example', 'the', 'hutterites', 'typically', 'went', 'from', 'initially', 'anarchistic', 'beginnings', 'to', 'as', 'their', 'movements', 'stabalised', 'more', 'authoritarian', 'social', 'models', 'chinese', 'anarchism', 'was', 'most', 'influential', 'in', 'the', 'one', 'nine', 'two', 'zero', 's', 'strands', 'of', 'chinese', 'anarchism', 'included', 'tai', 'xu', 's', 'buddhist', 'anarchism', 'which', 'was', 'influenced', 'by', 'tolstoy', 'and', 'the', 'well', 'field', 'system', 'neopaganism', 'with', 'its', 'focus', 'on', 'the', 'environment', 'and', 'equality', 'along', 'with', 'its', 'often', 'decentralized', 'nature', 'has', 'lead', 'to', 'a', 'number', 'of', 'neopagan', 'anarchists', 'one', 'of', 'the', 'most', 'prominent', 'is', 'starhawk', 'who', 'writes', 'extensively', 'about', 'both', 'spirituality', 'and', 'activism', 'anarchism', 'and', 'feminism', 'emma', 'goldman', 'early', 'french', 'feminists', 'such', 'as', 'jenny', 'd', 'h', 'ricourt', 'and', 'juliette', 'adam', 'criticised', 'the', 'mysogyny', 'in', 'the', 'anarchism', 'of', 'proudhon', 'during', 'the', 'one', 'eight', 'five', 'zero', 's', 'anarcha', 'feminism', 'is', 'a', 'kind', 'of', 'radical', 'feminism', 'that', 'espouses', 'the', 'belief', 'that', 'patriarchy', 'is', 'a', 'fundamental', 'problem', 'in', 'society', 'while', 'anarchist', 'feminism', 'has', 'existed', 'for', 'more', 'than', 'a', 'hundred', 'years', 'its', 'explicit', 'formulation', 'as', 'anarcha', 'feminism', 'dates', 'back', 'to', 'the', 'early', 'seven', 'zero', 's', 'during', 'the', 'second', 'wave', 'feminist', 'movement', 'anarcha', 'feminism', 'views', 'patriarchy', 'as', 'the', 'first', 'manifestation', 'of', 'hierarchy', 'in', 'human', 'history', 'thus', 'the', 'first', 'form', 'of', 'oppression', 'occurred', 'in', 'the', 'dominance', 'of', 'male', 'over', 'female', 'anarcha', 'feminists', 'then', 'conclude', 'that', 'if', 'feminists', 'are', 'against', 'patriarchy', 'they', 'must', 'also', 'be', 'against', 'all', 'forms', 'of', 'hierarchy', 'and', 'therefore', 'must', 'reject', 'the', 'authoritarian', 'nature', 'of', 'the', 'state', 'and', 'capitalism', 'anarcho', 'primitivists', 'see', 'the', 'creation', 'of', 'gender', 'roles', 'and', 'patriarchy', 'a', 'creation', 'of', 'the', 'start', 'of', 'civilization', 'and', 'therefore', 'consider', 'primitivism', 'to', 'also', 'be', 'an', 'anarchist', 'school', 'of', 'thought', 'that', 'addresses', 'feminist', 'concerns', 'eco', 'feminism', 'is', 'often', 'considered', 'a', 'feminist', 'variant', 'of', 'green', 'anarchist', 'feminist', 'thought', 'anarcha', 'feminism', 'is', 'most', 'often', 'associated', 'with', 'early', 'two', 'zero', 'th', 'century', 'authors', 'and', 'theorists', 'such', 'as', 'emma', 'goldman', 'and', 'voltairine', 'de', 'cleyre', 'although', 'even', 'early', 'first', 'wave', 'feminist', 'mary', 'wollstonecraft', 'held', 'proto', 'anarchist', 'views', 'and', 'william', 'godwin', 'is', 'often', 'considered', 'a', 'feminist', 'anarchist', 'precursor', 'it', 'should', 'be', 'noted', 'that', 'goldman', 'and', 'de', 'cleyre', 'though', 'they', 'both', 'opposed', 'the', 'state', 'had', 'opposing', 'philosophies', 'as', 'de', 'cleyre', 'explains', 'miss', 'goldman', 'is', 'a', 'communist', 'i', 'am', 'an', 'individualist', 'she', 'wishes', 'to', 'destroy', 'the', 'right', 'of', 'property', 'i', 'wish', 'to', 'assert', 'it', 'i', 'make', 'my', 'war', 'upon', 'privilege', 'and', 'authority', 'whereby', 'the', 'right', 'of', 'property', 'the', 'true', 'right', 'in', 'that', 'which', 'is', 'proper', 'to', 'the', 'individual', 'is', 'annihilated', 'she', 'believes', 'that', 'co', 'operation', 'would', 'entirely', 'supplant', 'competition', 'i', 'hold', 'that', 'competition', 'in', 'one', 'form', 'or', 'another', 'will', 'always', 'exist', 'and', 'that', 'it', 'is', 'highly', 'desirable', 'it', 'should', 'in', 'the', 'spanish', 'civil', 'war', 'an', 'anarcha', 'feminist', 'group', 'free', 'women', 'organized', 'to', 'defend', 'both', 'anarchist', 'and', 'feminist', 'ideas', 'in', 'the', 'modern', 'day', 'anarchist', 'movement', 'many', 'anarchists', 'male', 'or', 'female', 'consider', 'themselves', 'feminists', 'and', 'anarcha', 'feminist', 'ideas', 'are', 'growing', 'the', 'publishing', 'of', 'quiet', 'rumors', 'an', 'anarcha', 'feminist', 'reader', 'has', 'helped', 'to', 'spread', 'various', 'kinds', 'of', 'anti', 'authoritarian', 'and', 'anarchist', 'feminist', 'ideas', 'to', 'the', 'broader', 'movement', 'wendy', 'mcelroy', 'has', 'popularized', 'an', 'individualist', 'anarchism', 'take', 'on', 'feminism', 'in', 'her', 'books', 'articles', 'and', 'individualist', 'feminist', 'website', 'anarcho', 'capitalism', 'murray', 'rothbard', 'one', 'nine', 'two', 'six', 'one', 'nine', 'nine', 'five', 'anarcho', 'capitalism', 'is', 'a', 'predominantly', 'united', 'states', 'based', 'theoretical', 'tradition', 'that', 'desires', 'a', 'stateless', 'society', 'with', 'the', 'economic', 'system', 'of', 'free', 'market', 'capitalism', 'unlike', 'other', 'branches', 'of', 'anarchism', 'it', 'does', 'not', 'oppose', 'profit', 'or', 'capitalism', 'consequently', 'most', 'anarchists', 'do', 'not', 'recognise', 'anarcho', 'capitalism', 'as', 'a', 'form', 'of', 'anarchism', 'murray', 'rothbard', 's', 'synthesis', 'of', 'classical', 'liberalism', 'and', 'austrian', 'economics', 'was', 'germinal', 'for', 'the', 'development', 'of', 'contemporary', 'anarcho', 'capitalist', 'theory', 'he', 'defines', 'anarcho', 'capitalism', 'in', 'terms', 'of', 'the', 'non', 'aggression', 'principle', 'based', 'on', 'the', 'concept', 'of', 'natural', 'law', 'competiting', 'theorists', 'use', 'egoism', 'utilitarianism', 'used', 'by', 'david', 'friedman', 'or', 'contractarianism', 'used', 'by', 'jan', 'narveson', 'some', 'minarchists', 'such', 'as', 'ayn', 'rand', 'robert', 'nozick', 'and', 'robert', 'a', 'heinlein', 'have', 'influenced', 'anarcho', 'capitalism', 'some', 'anarcho', 'capitalists', 'along', 'with', 'some', 'right', 'wing', 'libertarian', 'historians', 'such', 'as', 'david', 'hart', 'and', 'ralph', 'raico', 'considered', 'similar', 'philosophies', 'existing', 'prior', 'to', 'rothbard', 'to', 'be', 'anarcho', 'capitalist', 'such', 'as', 'those', 'of', 'gustave', 'de', 'molinari', 'and', 'auberon', 'herbert', 'opponents', 'of', 'anarcho', 'capitalists', 'dispute', 'these', 'claims', 'the', 'place', 'of', 'anarcho', 'capitalism', 'within', 'anarchism', 'and', 'indeed', 'whether', 'it', 'is', 'a', 'form', 'of', 'anarchism', 'at', 'all', 'is', 'highly', 'controversial', 'for', 'more', 'on', 'this', 'debate', 'see', 'anarchism', 'and', 'anarcho', 'capitalism', 'anarchism', 'and', 'the', 'environment', 'since', 'the', 'late', 'one', 'nine', 'seven', 'zero', 's', 'anarchists', 'in', 'anglophone', 'and', 'european', 'countries', 'have', 'been', 'taking', 'action', 'for', 'the', 'natural', 'environment', 'eco', 'anarchists', 'or', 'green', 'anarchists', 'believe', 'in', 'deep', 'ecology', 'this', 'is', 'a', 'worldview', 'that', 'embraces', 'biodiversity', 'and', 'sustainability', 'eco', 'anarchists', 'often', 'use', 'direct', 'action', 'against', 'what', 'they', 'see', 'as', 'earth', 'destroying', 'institutions', 'of', 'particular', 'importance', 'is', 'the', 'earth', 'first', 'movement', 'that', 'takes', 'action', 'such', 'as', 'tree', 'sitting', 'another', 'important', 'component', 'is', 'ecofeminism', 'which', 'sees', 'the', 'domination', 'of', 'nature', 'as', 'a', 'metaphor', 'for', 'the', 'domination', 'of', 'women', 'green', 'anarchism', 'also', 'involves', 'a', 'critique', 'of', 'industrial', 'capitalism', 'and', 'for', 'some', 'green', 'anarchists', 'civilization', 'itself', 'primitivism', 'is', 'a', 'predominantly', 'western', 'philosophy', 'that', 'advocates', 'a', 'return', 'to', 'a', 'pre', 'industrial', 'and', 'usually', 'pre', 'agricultural', 'society', 'it', 'develops', 'a', 'critique', 'of', 'industrial', 'civilization', 'in', 'this', 'critique', 'technology', 'and', 'development', 'have', 'alienated', 'people', 'from', 'the', 'natural', 'world', 'this', 'philosophy', 'develops', 'themes', 'present', 'in', 'the', 'political', 'action', 'of', 'the', 'luddites', 'and', 'the', 'writings', 'of', 'jean', 'jacques', 'rousseau', 'primitivism', 'developed', 'in', 'the', 'context', 'of', 'the', 'reclaim', 'the', 'streets', 'earth', 'first', 'and', 'the', 'earth', 'liberation', 'front', 'movements', 'john', 'zerzan', 'wrote', 'that', 'civilization', 'not', 'just', 'the', 'state', 'would', 'need', 'to', 'fall', 'for', 'anarchy', 'to', 'be', 'achieved', 'anarcho', 'primitivists', 'point', 'to', 'the', 'anti', 'authoritarian', 'nature', 'of', 'many', 'primitive', 'or', 'hunter', 'gatherer', 'societies', 'throughout', 'the', 'world', 's', 'history', 'as', 'examples', 'of', 'anarchist', 'societies', 'other', 'branches', 'and', 'offshoots', 'anarchism', 'generates', 'many', 'eclectic', 'and', 'syncretic', 'philosophies', 'and', 'movements', 'since', 'the', 'western', 'social', 'formet', 'in', 'the', 'one', 'nine', 'six', 'zero', 's', 'and', 'one', 'nine', 'seven', 'zero', 's', 'a', 'number', 'new', 'of', 'movements', 'and', 'schools', 'have', 'appeared', 'most', 'of', 'these', 'stances', 'are', 'limited', 'to', 'even', 'smaller', 'numbers', 'than', 'the', 'schools', 'and', 'movements', 'listed', 'above', 'hakim', 'bey', 'post', 'left', 'anarchy', 'post', 'left', 'anarchy', 'also', 'called', 'egoist', 'anarchism', 'seeks', 'to', 'distance', 'itself', 'from', 'the', 'traditional', 'left', 'communists', 'liberals', 'social', 'democrats', 'etc', 'and', 'to', 'escape', 'the', 'confines', 'of', 'ideology', 'in', 'general', 'post', 'leftists', 'argue', 'that', 'anarchism', 'has', 'been', 'weakened', 'by', 'its', 'long', 'attachment', 'to', 'contrary', 'leftist', 'movements', 'and', 'single', 'issue', 'causes', 'anti', 'war', 'anti', 'nuclear', 'etc', 'it', 'calls', 'for', 'a', 'synthesis', 'of', 'anarchist', 'thought', 'and', 'a', 'specifically', 'anti', 'authoritarian', 'revolutionary', 'movement', 'outside', 'of', 'the', 'leftist', 'milieu', 'it', 'often', 'focuses', 'on', 'the', 'individual', 'rather', 'than', 'speaking', 'in', 'terms', 'of', 'class', 'or', 'other', 'broad', 'generalizations', 'and', 'shuns', 'organizational', 'tendencies', 'in', 'favor', 'of', 'the', 'complete', 'absence', 'of', 'explicit', 'hierarchy', 'important', 'groups', 'and', 'individuals', 'associated', 'with', 'post', 'left', 'anarchy', 'include', 'crimethinc', 'the', 'magazine', 'anarchy', 'a', 'journal', 'of', 'desire', 'armed', 'and', 'its', 'editor', 'jason', 'mcquinn', 'bob', 'black', 'hakim', 'bey', 'and', 'others', 'for', 'more', 'information', 'see', 'infoshop', 'org', 's', 'anarchy', 'after', 'leftism', 'section', 'and', 'the', 'post', 'left', 'section', 'on', 'anarchism', 'ws', 'see', 'also', 'post', 'left', 'anarchy', 'post', 'structuralism', 'the', 'term', 'postanarchism', 'was', 'originated', 'by', 'saul', 'newman', 'first', 'receiving', 'popular', 'attention', 'in', 'his', 'book', 'from', 'bakunin', 'to', 'lacan', 'to', 'refer', 'to', 'a', 'theoretical', 'move', 'towards', 'a', 'synthesis', 'of', 'classical', 'anarchist', 'theory', 'and', 'poststructuralist', 'thought', 'subsequent', 'to', 'newman', 's', 'use', 'of', 'the', 'term', 'however', 'it', 'has', 'taken', 'on', 'a', 'life', 'of', 'its', 'own', 'and', 'a', 'wide', 'range', 'of', 'ideas', 'including', 'autonomism', 'post', 'left', 'anarchy', 'situationism', 'post', 'colonialism', 'and', 'zapatismo', 'by', 'its', 'very', 'nature', 'post', 'anarchism', 'rejects', 'the', 'idea', 'that', 'it', 'should', 'be', 'a', 'coherent', 'set', 'of', 'doctrines', 'and', 'beliefs', 'as', 'such', 'it', 'is', 'difficult', 'if', 'not', 'impossible', 'to', 'state', 'with', 'any', 'degree', 'of', 'certainty', 'who', 'should', 'or', 'shouldn', 't', 'be', 'grouped', 'under', 'the', 'rubric', 'nonetheless', 'key', 'thinkers', 'associated', 'with', 'post', 'anarchism', 'include', 'saul', 'newman', 'todd', 'may', 'gilles', 'deleuze', 'and', 'f', 'lix', 'guattari', 'external', 'reference', 'postanarchism', 'clearinghouse', 'see', 'also', 'post', 'anarchism', 'insurrectionary', 'anarchism', 'insurrectionary', 'anarchism', 'is', 'a', 'form', 'of', 'revolutionary', 'anarchism', 'critical', 'of', 'formal', 'anarchist', 'labor', 'unions', 'and', 'federations', 'insurrectionary', 'anarchists', 'advocate', 'informal', 'organization', 'including', 'small', 'affinity', 'groups', 'carrying', 'out', 'acts', 'of', 'resistance', 'in', 'various', 'struggles', 'and', 'mass', 'organizations', 'called', 'base', 'structures', 'which', 'can', 'include', 'exploited', 'individuals', 'who', 'are', 'not', 'anarchists', 'proponents', 'include', 'wolfi', 'landstreicher', 'and', 'alfredo', 'm', 'bonanno', 'author', 'of', 'works', 'including', 'armed', 'joy', 'and', 'the', 'anarchist', 'tension', 'this', 'tendency', 'is', 'represented', 'in', 'the', 'us', 'in', 'magazines', 'such', 'as', 'willful', 'disobedience', 'and', 'killing', 'king', 'abacus', 'see', 'also', 'insurrectionary', 'anarchism', 'small', 'a', 'anarchism', 'small', 'a', 'anarchism', 'is', 'a', 'term', 'used', 'in', 'two', 'different', 'but', 'not', 'unconnected', 'contexts', 'dave', 'neal', 'posited', 'the', 'term', 'in', 'opposition', 'to', 'big', 'a', 'anarchism', 'in', 'the', 'article', 'anarchism', 'ideology', 'or', 'methodology', 'while', 'big', 'a', 'anarchism', 'referred', 'to', 'ideological', 'anarchists', 'small', 'a', 'anarchism', 'was', 'applied', 'to', 'their', 'methodological', 'counterparts', 'those', 'who', 'viewed', 'anarchism', 'as', 'a', 'way', 'of', 'acting', 'or', 'a', 'historical', 'tendency', 'against', 'illegitimate', 'authority', 'as', 'an', 'anti', 'ideological', 'position', 'small', 'a', 'anarchism', 'shares', 'some', 'similarities', 'with', 'post', 'left', 'anarchy', 'david', 'graeber', 'and', 'andrej', 'grubacic', 'offer', 'an', 'alternative', 'use', 'of', 'the', 'term', 'applying', 'it', 'to', 'groups', 'and', 'movements', 'organising', 'according', 'to', 'or', 'acting', 'in', 'a', 'manner', 'consistent', 'with', 'anarchist', 'principles', 'of', 'decentralisation', 'voluntary', 'association', 'mutual', 'aid', 'the', 'network', 'model', 'and', 'crucially', 'the', 'rejection', 'of', 'any', 'idea', 'that', 'the', 'end', 'justifies', 'the', 'means', 'let', 'alone', 'that', 'the', 'business', 'of', 'a', 'revolutionary', 'is', 'to', 'seize', 'state', 'power', 'and', 'then', 'begin', 'imposing', 'one', 's', 'vision', 'at', 'the', 'point', 'of', 'a', 'gun', 'other', 'issues', 'conceptions', 'of', 'an', 'anarchist', 'society', 'many', 'political', 'philosophers', 'justify', 'support', 'of', 'the', 'state', 'as', 'a', 'means', 'of', 'regulating', 'violence', 'so', 'that', 'the', 'destruction', 'caused', 'by', 'human', 'conflict', 'is', 'minimized', 'and', 'fair', 'relationships', 'are', 'established', 'anarchists', 'argue', 'that', 'pursuit', 'of', 'these', 'ends', 'does', 'not', 'justify', 'the', 'establishment', 'of', 'a', 'state', 'many', 'argue', 'that', 'the', 'state', 'is', 'incompatible', 'with', 'those', 'goals', 'and', 'the', 'cause', 'of', 'chaos', 'violence', 'and', 'war', 'anarchists', 'argue', 'that', 'the', 'state', 'helps', 'to', 'create', 'a', 'monopoly', 'on', 'violence', 'and', 'uses', 'violence', 'to', 'advance', 'elite', 'interests', 'much', 'effort', 'has', 'been', 'dedicated', 'to', 'explaining', 'how', 'anarchist', 'societies', 'would', 'handle', 'criminality', 'see', 'also', 'anarchism', 'and', 'society', 'civil', 'rights', 'and', 'cultural', 'sovereignty', 'black', 'anarchism', 'opposes', 'the', 'existence', 'of', 'a', 'state', 'capitalism', 'and', 'subjugation', 'and', 'domination', 'of', 'people', 'of', 'color', 'and', 'favors', 'a', 'non', 'hierarchical', 'organization', 'of', 'society', 'theorists', 'include', 'ashanti', 'alston', 'lorenzo', 'komboa', 'ervin', 'and', 'sam', 'mbah', 'anarchist', 'people', 'of', 'color', 'was', 'created', 'as', 'a', 'forum', 'for', 'non', 'caucasian', 'anarchists', 'to', 'express', 'their', 'thoughts', 'about', 'racial', 'issues', 'within', 'the', 'anarchist', 'movement', 'particularly', 'within', 'the', 'united', 'states', 'national', 'anarchism', 'is', 'a', 'political', 'view', 'which', 'seeks', 'to', 'unite', 'cultural', 'or', 'ethnic', 'preservation', 'with', 'anarchist', 'views', 'its', 'adherents', 'propose', 'that', 'those', 'preventing', 'ethnic', 'groups', 'or', 'races', 'from', 'living', 'in', 'separate', 'autonomous', 'groupings', 'should', 'be', 'resisted', 'anti', 'racist', 'action', 'is', 'not', 'an', 'anarchist', 'group', 'but', 'many', 'anarchists', 'are', 'involved', 'it', 'focuses', 'on', 'publicly', 'confronting', 'racist', 'agitators', 'the', 'zapatista', 'movement', 'of', 'chiapas', 'mexico', 'is', 'a', 'cultural', 'sovereignty', 'group', 'with', 'some', 'anarchist', 'proclivities', 'neocolonialism', 'and', 'globalization', 'nearly', 'all', 'anarchists', 'oppose', 'neocolonialism', 'as', 'an', 'attempt', 'to', 'use', 'economic', 'coercion', 'on', 'a', 'global', 'scale', 'carried', 'out', 'through', 'state', 'institutions', 'such', 'as', 'the', 'world', 'bank', 'world', 'trade', 'organization', 'group', 'of', 'eight', 'and', 'the', 'world', 'economic', 'forum', 'globalization', 'is', 'an', 'ambiguous', 'term', 'that', 'has', 'different', 'meanings', 'to', 'different', 'anarchist', 'factions', 'most', 'anarchists', 'use', 'the', 'term', 'to', 'mean', 'neocolonialism', 'and', 'or', 'cultural', 'imperialism', 'which', 'they', 'may', 'see', 'as', 'related', 'many', 'are', 'active', 'in', 'the', 'anti', 'globalization', 'movement', 'others', 'particularly', 'anarcho', 'capitalists', 'use', 'globalization', 'to', 'mean', 'the', 'worldwide', 'expansion', 'of', 'the', 'division', 'of', 'labor', 'and', 'trade', 'which', 'they', 'see', 'as', 'beneficial', 'so', 'long', 'as', 'governments', 'do', 'not', 'intervene', 'parallel', 'structures', 'many', 'anarchists', 'try', 'to', 'set', 'up', 'alternatives', 'to', 'state', 'supported', 'institutions', 'and', 'outposts', 'such', 'as', 'food', 'not', 'bombs', 'infoshops', 'educational', 'systems', 'such', 'as', 'home', 'schooling', 'neighborhood', 'mediation', 'arbitration', 'groups', 'and', 'so', 'on', 'the', 'idea', 'is', 'to', 'create', 'the', 'structures', 'for', 'a', 'new', 'anti', 'authoritarian', 'society', 'in', 'the', 'shell', 'of', 'the', 'old', 'authoritarian', 'one', 'technology', 'recent', 'technological', 'developments', 'have', 'made', 'the', 'anarchist', 'cause', 'both', 'easier', 'to', 'advance', 'and', 'more', 'conceivable', 'to', 'people', 'many', 'people', 'use', 'the', 'internet', 'to', 'form', 'on', 'line', 'communities', 'intellectual', 'property', 'is', 'undermined', 'and', 'a', 'gift', 'culture', 'supported', 'by', 'sharing', 'music', 'files', 'open', 'source', 'programming', 'and', 'the', 'free', 'software', 'movement', 'these', 'cyber', 'communities', 'include', 'the', 'gnu', 'linux', 'indymedia', 'and', 'wiki', 'some', 'anarchists', 'see', 'information', 'technology', 'as', 'the', 'best', 'weapon', 'to', 'defeat', 'authoritarianism', 'some', 'even', 'think', 'the', 'information', 'age', 'makes', 'eventual', 'anarchy', 'inevitable', 'see', 'also', 'crypto', 'anarchism', 'and', 'cypherpunk', 'pacifism', 'some', 'anarchists', 'consider', 'pacifism', 'opposition', 'to', 'war', 'to', 'be', 'inherent', 'in', 'their', 'philosophy', 'anarcho', 'pacifists', 'take', 'it', 'further', 'and', 'follow', 'leo', 'tolstoy', 's', 'belief', 'in', 'non', 'violence', 'anarchists', 'see', 'war', 'as', 'an', 'activity', 'in', 'which', 'the', 'state', 'seeks', 'to', 'gain', 'and', 'consolidate', 'power', 'both', 'domestically', 'and', 'in', 'foreign', 'lands', 'and', 'subscribe', 'to', 'randolph', 'bourne', 's', 'view', 'that', 'war', 'is', 'the', 'health', 'of', 'the', 'state', 'a', 'lot', 'of', 'anarchist', 'activity', 'has', 'been', 'anti', 'war', 'based', 'parliamentarianism', 'in', 'general', 'terms', 'the', 'anarchist', 'ethos', 'opposes', 'voting', 'in', 'elections', 'because', 'voting', 'amounts', 'to', 'condoning', 'the', 'state', 'voluntaryism', 'is', 'an', 'anarchist', 'school', 'of', 'thought', 'which', 'emphasizes', 'tending', 'your', 'own', 'garden', 'and', 'neither', 'ballots', 'nor', 'bullets', 'the', 'anarchist', 'case', 'against', 'voting', 'is', 'explained', 'in', 'the', 'ethics', 'of', 'voting', 'by', 'george', 'h', 'smith', 'also', 'see', 'voting', 'anarchists', 'an', 'oxymoron', 'or', 'what', 'by', 'joe', 'peacott', 'and', 'writings', 'by', 'fred', 'woodworth', 'sectarianism', 'most', 'anarchist', 'schools', 'of', 'thought', 'are', 'to', 'some', 'degree', 'sectarian', 'there', 'is', 'often', 'a', 'difference', 'of', 'opinion', 'within', 'each', 'school', 'about', 'how', 'to', 'react', 'to', 'or', 'interact', 'with', 'other', 'schools', 'some', 'such', 'as', 'panarchists', 'believe', 'that', 'it', 'is', 'possible', 'for', 'a', 'variety', 'of', 'modes', 'of', 'social', 'life', 'to', 'coexist', 'and', 'compete', 'some', 'anarchists', 'view', 'opposing', 'schools', 'as', 'a', 'social', 'impossibility', 'and', 'resist', 'interaction', 'others', 'see', 'opportunities', 'for', 'coalition', 'building', 'or', 'at', 'least', 'temporary', 'alliances', 'for', 'specific', 'purposes', 'see', 'anarchism', 'without', 'adjectives', 'criticisms', 'of', 'anarchism', 'main', 'article', 'criticisms', 'of', 'anarchism', 'violence', 'since', 'anarchism', 'has', 'often', 'been', 'associated', 'with', 'violence', 'and', 'destruction', 'some', 'people', 'have', 'seen', 'it', 'as', 'being', 'too', 'violent', 'on', 'the', 'other', 'hand', 'hand', 'frederick', 'engels', 'criticsed', 'anarchists', 'for', 'not', 'being', 'violent', 'enough', 'a', 'revolution', 'is', 'certainly', 'the', 'most', 'authoritarian', 'thing', 'there', 'is', 'it', 'is', 'the', 'act', 'whereby', 'one', 'part', 'of', 'the', 'population', 'imposes', 'its', 'will', 'upon', 'the', 'other', 'part', 'by', 'means', 'of', 'rifles', 'bayonets', 'and', 'cannon', 'authoritarian', 'means', 'if', 'such', 'there', 'be', 'at', 'all', 'and', 'if', 'the', 'victorious', 'party', 'does', 'not', 'want', 'to', 'have', 'fought', 'in', 'vain', 'it', 'must', 'maintain', 'this', 'rule', 'by', 'means', 'of', 'the', 'terror', 'which', 'its', 'arms', 'inspire', 'in', 'the', 'reactionists', 'would', 'the', 'paris', 'commune', 'have', 'lasted', 'a', 'single', 'day', 'if', 'it', 'had', 'not', 'made', 'use', 'of', 'this', 'authority', 'of', 'the', 'armed', 'people', 'against', 'the', 'bourgeois', 'utopianism', 'anarchism', 'is', 'often', 'criticised', 'as', 'unfeasible', 'or', 'plain', 'utopian', 'even', 'by', 'many', 'who', 'agree', 'that', 'it', 's', 'a', 'nice', 'idea', 'in', 'principle', 'for', 'example', 'carl', 'landauer', 'in', 'his', 'book', 'european', 'socialism', 'criticizes', 'anarchism', 'as', 'being', 'unrealistically', 'utopian', 'and', 'holds', 'that', 'government', 'is', 'a', 'lesser', 'evil', 'than', 'a', 'society', 'without', 'repressive', 'force', 'he', 'holds', 'that', 'the', 'belief', 'that', 'ill', 'intentions', 'will', 'cease', 'if', 'repressive', 'force', 'disappears', 'is', 'an', 'absurdity', 'however', 'it', 'must', 'be', 'noted', 'that', 'not', 'all', 'anarchists', 'have', 'such', 'a', 'utopian', 'view', 'of', 'anarchism', 'for', 'example', 'some', 'such', 'as', 'benjamin', 'tucker', 'advocate', 'privately', 'funded', 'institutions', 'that', 'defend', 'individual', 'liberty', 'and', 'property', 'however', 'other', 'anarchists', 'such', 'as', 'sir', 'herbert', 'read', 'proudly', 'accept', 'the', 'characterization', 'utopian', 'class', 'character', 'marxists', 'have', 'characterised', 'anarchism', 'as', 'an', 'expression', 'of', 'the', 'class', 'interests', 'of', 'the', 'petite', 'bourgeoisie', 'or', 'perhaps', 'the', 'lumpenproletariat', 'see', 'e', 'g', 'plekhanov', 'for', 'a', 'marxist', 'critique', 'of', 'one', 'eight', 'nine', 'five', 'anarchists', 'have', 'also', 'been', 'characterised', 'as', 'spoilt', 'middle', 'class', 'dilettantes', 'most', 'recently', 'in', 'relation', 'to', 'anti', 'capitalist', 'protesters', 'tacit', 'authoritarianism', 'in', 'recent', 'decades', 'anarchism', 'has', 'been', 'criticised', 'by', 'situationists', 'post', 'anarchists', 'and', 'others', 'of', 'preserving', 'tacitly', 'statist', 'authoritarian', 'or', 'bureaucratic', 'tendencies', 'behind', 'a', 'dogmatic', 'facade', 'hypocrisy', 'some', 'critics', 'point', 'to', 'the', 'sexist', 'and', 'racist', 'views', 'of', 'some', 'prominent', 'anarchists', 'notably', 'proudhon', 'and', 'bakunin', 'as', 'examples', 'of', 'hypocrisy', 'inherent', 'within', 'anarchism', 'while', 'many', 'anarchists', 'however', 'dismiss', 'that', 'the', 'personal', 'prejudices', 'of', 'one', 'nine', 'th', 'century', 'theorists', 'influence', 'the', 'beliefs', 'of', 'present', 'day', 'anarchists', 'others', 'criticise', 'modern', 'anarchism', 'for', 'continuing', 'to', 'be', 'eurocentric', 'and', 'reference', 'the', 'impact', 'of', 'anarchist', 'thinkers', 'like', 'proudhon', 'on', 'fascism', 'through', 'groups', 'like', 'cercle', 'proudhon', 'anarcho', 'capitalist', 'bryan', 'caplan', 'argues', 'that', 'the', 'treatment', 'of', 'fascists', 'and', 'suspected', 'fascist', 'sympathizers', 'by', 'spanish', 'anarchists', 'in', 'the', 'spanish', 'civil', 'war', 'was', 'a', 'form', 'of', 'illegitimate', 'coercion', 'making', 'the', 'proffessed', 'anarchists', 'ultimately', 'just', 'a', 'third', 'faction', 'of', 'totalitarians', 'alongside', 'the', 'communists', 'and', 'fascists', 'he', 'also', 'criticizes', 'the', 'willingness', 'of', 'the', 'cnt', 'to', 'join', 'the', 'statist', 'republican', 'government', 'during', 'the', 'civil', 'war', 'and', 'references', 'stanley', 'g', 'payne', 's', 'book', 'on', 'the', 'franco', 'regime', 'which', 'claims', 'that', 'the', 'cnt', 'entered', 'negotiations', 'with', 'the', 'fascist', 'government', 'six', 'years', 'after', 'the', 'war', 'cultural', 'phenomena', 'noam', 'chomsky', 'one', 'nine', 'two', 'eight', 'the', 'kind', 'of', 'anarchism', 'that', 'is', 'most', 'easily', 'encountered', 'in', 'popular', 'culture', 'is', 'represented', 'by', 'celebrities', 'who', 'publicly', 'identify', 'themselves', 'as', 'anarchists', 'although', 'some', 'anarchists', 'reject', 'any', 'focus', 'on', 'such', 'famous', 'living', 'individuals', 'as', 'inherently', 'litist', 'the', 'following', 'figures', 'are', 'examples', 'of', 'prominent', 'publicly', 'self', 'avowed', 'anarchists', 'the', 'mit', 'professor', 'of', 'linguistics', 'noam', 'chomsky', 'the', 'science', 'fiction', 'author', 'ursula', 'k', 'le', 'guin', 'the', 'social', 'historian', 'howard', 'zinn', 'entertainer', 'and', 'author', 'hans', 'alfredsson', 'the', 'avant', 'garde', 'artist', 'nicol', 's', 'rossell', 'in', 'denmark', 'the', 'freetown', 'christiania', 'was', 'created', 'in', 'downtown', 'copenhagen', 'the', 'housing', 'and', 'employment', 'crisis', 'in', 'most', 'of', 'western', 'europe', 'led', 'to', 'the', 'formation', 'of', 'communes', 'and', 'squatter', 'movements', 'like', 'the', 'one', 'still', 'thriving', 'in', 'barcelona', 'in', 'catalonia', 'militant', 'resistance', 'to', 'neo', 'nazi', 'groups', 'in', 'places', 'like', 'germany', 'and', 'the', 'uprisings', 'of', 'autonomous', 'marxism', 'situationist', 'and', 'autonomist', 'groups', 'in', 'france', 'and', 'italy', 'also', 'helped', 'to', 'give', 'popularity', 'to', 'anti', 'authoritarian', 'non', 'capitalist', 'ideas', 'in', 'various', 'musical', 'styles', 'anarchism', 'rose', 'in', 'popularity', 'most', 'famous', 'for', 'the', 'linking', 'of', 'anarchist', 'ideas', 'and', 'music', 'has', 'been', 'punk', 'rock', 'although', 'in', 'the', 'modern', 'age', 'hip', 'hop', 'and', 'folk', 'music', 'are', 'also', 'becoming', 'important', 'mediums', 'for', 'the', 'spreading', 'of', 'the', 'anarchist', 'message', 'in', 'the', 'uk', 'this', 'was', 'associated', 'with', 'the', 'punk', 'rock', 'movement', 'the', 'band', 'crass', 'is', 'celebrated', 'for', 'its', 'anarchist', 'and', 'pacifist', 'ideas', 'the', 'dutch', 'punk', 'band', 'the', 'ex', 'further', 'exemplifies', 'this', 'expression', 'for', 'further', 'details', 'see', 'anarcho', 'punk', 'see', 'also', 'there', 'are', 'many', 'concepts', 'relevant', 'to', 'the', 'topic', 'of', 'anarchism', 'this', 'is', 'a', 'brief', 'summary', 'there', 'is', 'also', 'a', 'more', 'extensive', 'list', 'of', 'anarchist', 'concepts', 'individualist', 'anarchism', 'anarcho', 'communism', 'anarcho', 'syndicalism', 'anarcho', 'capitalism', 'mutualism', 'christian', 'anarchism', 'anarcha', 'feminism', 'green', 'anarchism', 'nihilist', 'anarchism', 'anarcho', 'nationalism', 'black', 'anarchism', 'national', 'anarchism', 'post', 'anarchism', 'post', 'left', 'anarchism', 'libertarian', 'socialism', 'anarchist', 'symbolism', 'list', 'of', 'anarchism', 'links', 'list', 'of', 'anarchists', 'list', 'of', 'anarchist', 'organizations', 'major', 'conflicts', 'within', 'anarchist', 'thought', 'past', 'and', 'present', 'anarchist', 'communities', 'historical', 'events', 'paris', 'commune', 'one', 'eight', 'seven', 'one', 'haymarket', 'riot', 'one', 'eight', 'eight', 'six', 'the', 'makhnovschina', 'one', 'nine', 'one', 'seven', 'one', 'nine', 'two', 'one', 'kronstadt', 'rebellion', 'one', 'nine', 'two', 'one', 'spanish', 'revolution', 'one', 'nine', 'three', 'six', 'see', 'anarchism', 'in', 'spain', 'and', 'spanish', 'revolution', 'may', 'one', 'nine', 'six', 'eight', 'france', 'one', 'nine', 'six', 'eight', 'wto', 'meeting', 'in', 'seattle', 'one', 'nine', 'nine', 'nine', 'books', 'the', 'following', 'is', 'a', 'sample', 'of', 'books', 'that', 'have', 'been', 'referenced', 'in', 'this', 'page', 'a', 'more', 'complete', 'list', 'can', 'be', 'found', 'at', 'the', 'list', 'of', 'anarchist', 'books', 'mikhail', 'bakunin', 'god', 'and', 'the', 'state', 'emma', 'goldman', 'anarchism', 'other', 'essays', 'peter', 'kropotkin', 'mutual', 'aid', 'pierre', 'joseph', 'proudhon', 'what', 'is', 'property', 'rudolf', 'rocker', 'anarcho', 'syndicalism', 'murray', 'rothbard', 'the', 'ethics', 'of', 'liberty', 'max', 'stirner', 'the', 'ego', 'and', 'its', 'own', 'leo', 'tolstoy', 'the', 'kingdom', 'of', 'god', 'is', 'within', 'you', 'anarchism', 'by', 'region', 'culture', 'african', 'anarchism', 'anarchism', 'in', 'spain', 'anarchism', 'in', 'the', 'english', 'tradition', 'chinese', 'anarchism', 'references', 'these', 'notes', 'have', 'no', 'corresponding', 'reference', 'in', 'the', 'article', 'they', 'might', 'be', 're', 'used', 'against', 'politics', 'appleton', 'boston', 'anarchists', 'yarros', 'victor', 'liberty', 'vii', 'january', 'two', 'one', 'eight', 'nine', 'two', 'noam', 'chomsky', 'on', 'anarchism', 'by', 'noam', 'chomsky', 'external', 'links', 'the', 'overwhelming', 'diversity', 'and', 'number', 'of', 'links', 'relating', 'to', 'anarchism', 'is', 'extensively', 'covered', 'on', 'the', 'links', 'subpage', 'anarchoblogs', 'blogs', 'by', 'anarchists', 'anarchy', 'archives', 'extensively', 'archives', 'information', 'relating', 'to', 'famous', 'anarchists', 'this', 'includes', 'many', 'of', 'their', 'books', 'and', 'other', 'publications', 'hundreds', 'of', 'anarchists', 'are', 'listed', 'with', 'short', 'bios', 'links', 'dedicated', 'pages', 'at', 'the', 'daily', 'bleed', 's', 'anarchist', 'encyclopedia', 'infoshop', 'org', 'wikipedia', 'page', 'industrial', 'workers', 'of', 'the', 'world', 'anarchism', 'forms', 'of', 'government', 'political', 'ideology', 'entry', 'points', 'political', 'theories', 'social', 'philosophy', 'autism', 'is', 'classified', 'as', 'a', 'neurodevelopmental', 'disorder', 'that', 'manifests', 'itself', 'in', 'markedly', 'abnormal', 'social', 'interaction', 'communication', 'ability', 'patterns', 'of', 'interests', 'and', 'patterns', 'of', 'behavior', 'although', 'the', 'specific', 'etiology', 'of', 'autism', 'is', 'unknown', 'many', 'researchers', 'suspect', 'that', 'autism', 'results', 'from', 'genetically', 'mediated', 'vulnerabilities', 'to', 'environmental', 'triggers', 'and', 'while', 'there', 'is', 'disagreement', 'about', 'the', 'magnitude', 'nature', 'and', 'mechanisms', 'for', 'such', 'environmental', 'factors', 'researchers', 'have', 'found', 'at', 'least', 'seven', 'major', 'genes', 'prevalent', 'among', 'individuals', 'diagnosed', 'as', 'autistic', 'some', 'estimate', 'that', 'autism', 'occurs', 'in', 'as', 'many', 'as', 'one', 'united', 'states', 'child', 'in', 'one', 'six', 'six', 'however', 'the', 'national', 'institute', 'of', 'mental', 'health', 'gives', 'a', 'more', 'conservative', 'estimate', 'of', 'one', 'in', 'one', 'zero', 'zero', 'zero', 'for', 'families', 'that', 'already', 'have', 'one', 'autistic', 'child', 'the', 'odds', 'of', 'a', 'second', 'autistic', 'child', 'may', 'be', 'as', 'high', 'as', 'one', 'in', 'twenty', 'diagnosis', 'is', 'based', 'on', 'a', 'list', 'of', 'psychiatric', 'criteria', 'and', 'a', 'series', 'of', 'standardized', 'clinical', 'tests', 'may', 'also', 'be', 'used', 'autism', 'may', 'not', 'be', 'physiologically', 'obvious', 'a', 'complete', 'physical', 'and', 'neurological', 'evaluation', 'will', 'typically', 'be', 'part', 'of', 'diagnosing', 'autism', 'some', 'now', 'speculate', 'that', 'autism', 'is', 'not', 'a', 'single', 'condition', 'but', 'a', 'group', 'of', 'several', 'distinct', 'conditions', 'that', 'manifest', 'in', 'similar', 'ways', 'by', 'definition', 'autism', 'must', 'manifest', 'delays', 'in', 'social', 'interaction', 'language', 'as', 'used', 'in', 'social', 'communication', 'or', 'symbolic', 'or', 'imaginative', 'play', 'with', 'onset', 'prior', 'to', 'age', 'three', 'years', 'according', 'to', 'the', 'diagnostic', 'and', 'statistical', 'manual', 'of', 'mental', 'disorders', 'the', 'icd', 'one', 'zero', 'also', 'says', 'that', 'symptoms', 'must', 'manifest', 'before', 'the', 'age', 'of', 'three', 'years', 'there', 'have', 'been', 'large', 'increases', 'in', 'the', 'reported', 'incidence', 'of', 'autism', 'for', 'reasons', 'that', 'are', 'heavily', 'debated', 'by', 'researchers', 'in', 'psychology', 'and', 'related', 'fields', 'within', 'the', 'scientific', 'community', 'some', 'children', 'with', 'autism', 'have', 'improved', 'their', 'social', 'and', 'other', 'skills', 'to', 'the', 'point', 'where', 'they', 'can', 'fully', 'participate', 'in', 'mainstream', 'education', 'and', 'social', 'events', 'but', 'there', 'are', 'lingering', 'concerns', 'that', 'an', 'absolute', 'cure', 'from', 'autism', 'is', 'impossible', 'with', 'current', 'technology', 'however', 'many', 'autistic', 'children', 'and', 'adults', 'who', 'are', 'able', 'to', 'communicate', 'at', 'least', 'in', 'writing', 'are', 'opposed', 'to', 'attempts', 'to', 'cure', 'their', 'conditions', 'and', 'see', 'such', 'conditions', 'as', 'part', 'of', 'who', 'they', 'are', 'history', 'dr', 'hans', 'asperger', 'described', 'a', 'form', 'of', 'autism', 'in', 'the', 'one', 'nine', 'four', 'zero', 's', 'that', 'later', 'became', 'known', 'as', 'asperger', 's', 'syndrome', 'the', 'word', 'autism', 'was', 'first', 'used', 'in', 'the', 'english', 'language', 'by', 'swiss', 'psychiatrist', 'eugene', 'bleuler', 'in', 'a', 'one', 'nine', 'one', 'two', 'number', 'of', 'the', 'american', 'journal', 'of', 'insanity', 'it', 'comes', 'from', 'the', 'greek', 'word', 'for', 'self', 'however', 'the', 'classification', 'of', 'autism', 'did', 'not', 'occur', 'until', 'the', 'middle', 'of', 'the', 'twentieth', 'century', 'when', 'in', 'one', 'nine', 'four', 'three', 'psychiatrist', 'dr', 'leo', 'kanner', 'of', 'the', 'johns', 'hopkins', 'hospital', 'in', 'baltimore', 'reported', 'on', 'one', 'one', 'child', 'patients', 'with', 'striking', 'behavioral', 'similarities', 'and', 'introduced', 'the', 'label', 'early', 'infantile', 'autism', 'he', 'suggested', 'autism', 'from', 'the', 'greek', 'autos', 'meaning', 'self', 'to', 'describe', 'the', 'fact', 'that', 'the', 'children', 'seemed', 'to', 'lack', 'interest', 'in', 'other', 'people', 'although', 'kanner', 's', 'first', 'paper', 'on', 'the', 'subject', 'was', 'published', 'in', 'a', 'now', 'defunct', 'journal', 'the', 'nervous', 'child', 'almost', 'every', 'characteristic', 'he', 'originally', 'described', 'is', 'still', 'regarded', 'as', 'typical', 'of', 'the', 'autistic', 'spectrum', 'of', 'disorders', 'at', 'the', 'same', 'time', 'an', 'austrian', 'scientist', 'dr', 'hans', 'asperger', 'described', 'a', 'different', 'form', 'of', 'autism', 'that', 'became', 'known', 'as', 'asperger', 's', 'syndrome', 'but', 'the', 'widespread', 'recognition', 'of', 'asperger', 's', 'work', 'was', 'delayed', 'by', 'world', 'war', 'ii', 'in', 'germany', 'and', 'by', 'the', 'fact', 'that', 'his', 'seminal', 'paper', 'wasn', 't', 'translated', 'into', 'english', 'for', 'almost', 'five', 'zero', 'years', 'the', 'majority', 'of', 'his', 'work', 'wasn', 't', 'widely', 'read', 'until', 'one', 'nine', 'nine', 'seven', 'thus', 'these', 'two', 'conditions', 'were', 'described', 'and', 'are', 'today', 'listed', 'in', 'the', 'diagnostic', 'and', 'statistical', 'manual', 'of', 'mental', 'disorders', 'dsm', 'iv', 'tr', 'fourth', 'edition', 'text', 'revision', 'one', 'as', 'two', 'of', 'the', 'five', 'pervasive', 'developmental', 'disorders', 'pdd', 'more', 'often', 'referred', 'to', 'today', 'as', 'autism', 'spectrum', 'disorders', 'asd', 'all', 'of', 'these', 'conditions', 'are', 'characterized', 'by', 'varying', 'degrees', 'of', 'difference', 'in', 'communication', 'skills', 'social', 'interactions', 'and', 'restricted', 'repetitive', 'and', 'stereotyped', 'patterns', 'of', 'behavior', 'few', 'clinicians', 'today', 'solely', 'use', 'the', 'dsm', 'iv', 'criteria', 'for', 'determining', 'a', 'diagnosis', 'of', 'autism', 'which', 'are', 'based', 'on', 'the', 'absence', 'or', 'delay', 'of', 'certain', 'developmental', 'milestones', 'many', 'clinicians', 'instead', 'use', 'an', 'alternate', 'means', 'or', 'a', 'combination', 'thereof', 'to', 'more', 'accurately', 'determine', 'a', 'diagnosis', 'terminology', 'when', 'referring', 'to', 'someone', 'diagnosed', 'with', 'autism', 'the', 'term', 'autistic', 'is', 'often', 'used', 'however', 'the', 'term', 'person', 'with', 'autism', 'can', 'be', 'used', 'instead', 'this', 'is', 'referred', 'to', 'as', 'person', 'first', 'terminology', 'the', 'autistic', 'community', 'generally', 'prefers', 'the', 'term', 'autistic', 'for', 'reasons', 'that', 'are', 'fairly', 'controversial', 'this', 'article', 'uses', 'the', 'term', 'autistic', 'see', 'talk', 'page', 'characteristics', 'dr', 'leo', 'kanner', 'introduced', 'the', 'label', 'early', 'infantile', 'autism', 'in', 'one', 'nine', 'four', 'three', 'there', 'is', 'a', 'great', 'diversity', 'in', 'the', 'skills', 'and', 'behaviors', 'of', 'individuals', 'diagnosed', 'as', 'autistic', 'and', 'physicians', 'will', 'often', 'arrive', 'at', 'different', 'conclusions', 'about', 'the', 'appropriate', 'diagnosis', 'much', 'of', 'this', 'is', 'due', 'to', 'the', 'sensory', 'system', 'of', 'an', 'autistic', 'which', 'is', 'quite', 'different', 'from', 'the', 'sensory', 'system', 'of', 'other', 'people', 'since', 'certain', 'stimulations', 'can', 'affect', 'an', 'autistic', 'differently', 'than', 'a', 'non', 'autistic', 'and', 'the', 'degree', 'to', 'which', 'the', 'sensory', 'system', 'is', 'affected', 'varies', 'wildly', 'from', 'one', 'autistic', 'person', 'to', 'another', 'nevertheless', 'professionals', 'within', 'pediatric', 'care', 'and', 'development', 'often', 'look', 'for', 'early', 'indicators', 'of', 'autism', 'in', 'order', 'to', 'initiate', 'treatment', 'as', 'early', 'as', 'possible', 'however', 'some', 'people', 'do', 'not', 'believe', 'in', 'treatment', 'for', 'autism', 'either', 'because', 'they', 'do', 'not', 'believe', 'autism', 'is', 'a', 'disorder', 'or', 'because', 'they', 'believe', 'treatment', 'can', 'do', 'more', 'harm', 'than', 'good', 'social', 'development', 'typically', 'developing', 'infants', 'are', 'social', 'beings', 'early', 'in', 'life', 'they', 'do', 'such', 'things', 'as', 'gaze', 'at', 'people', 'turn', 'toward', 'voices', 'grasp', 'a', 'finger', 'and', 'even', 'smile', 'in', 'contrast', 'most', 'autistic', 'children', 'prefer', 'objects', 'to', 'faces', 'and', 'seem', 'to', 'have', 'tremendous', 'difficulty', 'learning', 'to', 'engage', 'in', 'the', 'give', 'and', 'take', 'of', 'everyday', 'human', 'interaction', 'even', 'in', 'the', 'first', 'few', 'months', 'of', 'life', 'many', 'seem', 'indifferent', 'to', 'other', 'people', 'because', 'they', 'avoid', 'eye', 'contact', 'and', 'do', 'not', 'interact', 'with', 'them', 'as', 'often', 'as', 'non', 'autistic', 'children', 'children', 'with', 'autism', 'often', 'appear', 'to', 'prefer', 'being', 'alone', 'to', 'the', 'company', 'of', 'others', 'and', 'may', 'passively', 'accept', 'such', 'things', 'as', 'hugs', 'and', 'cuddling', 'without', 'reciprocating', 'or', 'resist', 'attention', 'altogether', 'later', 'they', 'seldom', 'seek', 'comfort', 'from', 'others', 'or', 'respond', 'to', 'parents', 'displays', 'of', 'anger', 'or', 'affection', 'in', 'a', 'typical', 'way', 'research', 'has', 'suggested', 'that', 'although', 'autistic', 'children', 'are', 'attached', 'to', 'their', 'parents', 'their', 'expression', 'of', 'this', 'attachment', 'is', 'unusual', 'and', 'difficult', 'to', 'interpret', 'parents', 'who', 'looked', 'forward', 'to', 'the', 'joys', 'of', 'cuddling', 'teaching', 'and', 'playing', 'with', 'their', 'child', 'may', 'feel', 'crushed', 'by', 'this', 'lack', 'of', 'expected', 'attachment', 'behavior', 'children', 'with', 'autism', 'appear', 'to', 'lack', 'theory', 'of', 'mind', 'the', 'ability', 'to', 'see', 'things', 'from', 'another', 'person', 's', 'perspective', 'a', 'behavior', 'cited', 'as', 'exclusive', 'to', 'human', 'beings', 'above', 'the', 'age', 'of', 'five', 'and', 'possibly', 'other', 'higher', 'primates', 'such', 'as', 'adult', 'gorillas', 'chimpanzees', 'and', 'bonobos', 'typical', 'five', 'year', 'olds', 'can', 'develop', 'insights', 'into', 'other', 'people', 's', 'different', 'knowledge', 'feelings', 'and', 'intentions', 'interpretations', 'based', 'upon', 'social', 'cues', 'e', 'g', 'gestures', 'facial', 'expressions', 'an', 'individual', 'with', 'autism', 'seems', 'to', 'lack', 'these', 'interpretation', 'skills', 'an', 'inability', 'that', 'leaves', 'them', 'unable', 'to', 'predict', 'or', 'understand', 'other', 'people', 's', 'actions', 'the', 'social', 'alienation', 'of', 'autistic', 'and', 'asperger', 's', 'people', 'is', 'so', 'intense', 'from', 'childhood', 'that', 'many', 'of', 'them', 'have', 'imaginary', 'friends', 'as', 'companionship', 'however', 'having', 'an', 'imaginary', 'friend', 'is', 'not', 'necessarily', 'a', 'sign', 'of', 'autism', 'and', 'also', 'occurs', 'in', 'non', 'autistic', 'children', 'although', 'not', 'universal', 'it', 'is', 'common', 'for', 'autistic', 'people', 'to', 'not', 'regulate', 'their', 'behavior', 'this', 'can', 'take', 'the', 'form', 'of', 'crying', 'or', 'verbal', 'outbursts', 'that', 'may', 'seem', 'out', 'of', 'proportion', 'to', 'the', 'situation', 'individuals', 'with', 'autism', 'generally', 'prefer', 'consistent', 'routines', 'and', 'environments', 'they', 'may', 'react', 'negatively', 'to', 'changes', 'in', 'them', 'it', 'is', 'not', 'uncommon', 'for', 'these', 'individuals', 'to', 'exhibit', 'aggression', 'increased', 'levels', 'of', 'self', 'stimulatory', 'behavior', 'self', 'injury', 'or', 'extensive', 'withdrawal', 'in', 'overwhelming', 'situations', 'sensory', 'system', 'a', 'key', 'indicator', 'to', 'clinicians', 'making', 'a', 'proper', 'assessment', 'for', 'autism', 'would', 'include', 'looking', 'for', 'symptoms', 'much', 'like', 'those', 'found', 'in', 'sensory', 'integration', 'dysfunction', 'children', 'will', 'exhibit', 'problems', 'coping', 'with', 'the', 'normal', 'sensory', 'input', 'indicators', 'of', 'this', 'disorder', 'include', 'oversensitivity', 'or', 'underreactivity', 'to', 'touch', 'movement', 'sights', 'or', 'sounds', 'physical', 'clumsiness', 'or', 'carelessness', 'poor', 'body', 'awareness', 'a', 'tendency', 'to', 'be', 'easily', 'distracted', 'impulsive', 'physical', 'or', 'verbal', 'behavior', 'an', 'activity', 'level', 'that', 'is', 'unusually', 'high', 'or', 'low', 'not', 'unwinding', 'or', 'calming', 'oneself', 'difficulty', 'learning', 'new', 'movements', 'difficulty', 'in', 'making', 'transitions', 'from', 'one', 'situation', 'to', 'another', 'social', 'and', 'or', 'emotional', 'problems', 'delays', 'in', 'speech', 'language', 'or', 'motor', 'skills', 'specific', 'learning', 'difficulties', 'delays', 'in', 'academic', 'achievement', 'one', 'common', 'example', 'is', 'an', 'individual', 'with', 'autism', 'hearing', 'a', 'person', 'with', 'autism', 'may', 'have', 'trouble', 'hearing', 'certain', 'people', 'while', 'other', 'people', 'are', 'louder', 'than', 'usual', 'or', 'the', 'person', 'with', 'autism', 'may', 'be', 'unable', 'to', 'filter', 'out', 'sounds', 'in', 'certain', 'situations', 'such', 'as', 'in', 'a', 'large', 'crowd', 'of', 'people', 'see', 'cocktail', 'party', 'effect', 'however', 'this', 'is', 'perhaps', 'the', 'part', 'of', 'the', 'autism', 'that', 'tends', 'to', 'vary', 'the', 'most', 'from', 'person', 'to', 'person', 'so', 'these', 'examples', 'may', 'not', 'apply', 'to', 'every', 'autistic', 'it', 'should', 'be', 'noted', 'that', 'sensory', 'difficulties', 'although', 'reportedly', 'common', 'in', 'autistics', 'are', 'not', 'part', 'of', 'the', 'dsm', 'iv', 'diagnostic', 'criteria', 'for', 'autistic', 'disorder', 'communication', 'difficulties', 'by', 'age', 'three', 'typical', 'children', 'have', 'passed', 'predictable', 'language', 'learning', 'milestones', 'one', 'of', 'the', 'earliest', 'is', 'babbling', 'by', 'the', 'first', 'birthday', 'a', 'typical', 'toddler', 'says', 'words', 'turns', 'when', 'he', 'or', 'she', 'hears', 'his', 'or', 'her', 'name', 'points', 'when', 'he', 'or', 'she', 'wants', 'a', 'toy', 'and', 'when', 'offered', 'something', 'distasteful', 'makes', 'it', 'clear', 'that', 'the', 'answer', 'is', 'no', 'speech', 'development', 'in', 'people', 'with', 'autism', 'takes', 'different', 'paths', 'some', 'remain', 'mute', 'throughout', 'their', 'lives', 'while', 'being', 'fully', 'literate', 'and', 'able', 'to', 'communicate', 'in', 'other', 'ways', 'images', 'sign', 'language', 'and', 'typing', 'are', 'far', 'more', 'natural', 'to', 'them', 'some', 'infants', 'who', 'later', 'show', 'signs', 'of', 'autism', 'coo', 'and', 'babble', 'during', 'the', 'first', 'few', 'months', 'of', 'life', 'but', 'stop', 'soon', 'afterwards', 'others', 'may', 'be', 'delayed', 'developing', 'language', 'as', 'late', 'as', 'the', 'teenage', 'years', 'still', 'inability', 'to', 'speak', 'does', 'not', 'mean', 'that', 'people', 'with', 'autism', 'are', 'unintelligent', 'or', 'unaware', 'once', 'given', 'appropriate', 'accommodations', 'many', 'will', 'happily', 'converse', 'for', 'hours', 'and', 'can', 'often', 'be', 'found', 'in', 'online', 'chat', 'rooms', 'discussion', 'boards', 'or', 'websites', 'and', 'even', 'using', 'communication', 'devices', 'at', 'autism', 'community', 'social', 'events', 'such', 'as', 'autreat', 'those', 'who', 'do', 'speak', 'often', 'use', 'language', 'in', 'unusual', 'ways', 'retaining', 'features', 'of', 'earlier', 'stages', 'of', 'language', 'development', 'for', 'long', 'periods', 'or', 'throughout', 'their', 'lives', 'some', 'speak', 'only', 'single', 'words', 'while', 'others', 'repeat', 'the', 'same', 'phrase', 'over', 'and', 'over', 'some', 'repeat', 'what', 'they', 'hear', 'a', 'condition', 'called', 'echolalia', 'sing', 'song', 'repetitions', 'in', 'particular', 'are', 'a', 'calming', 'joyous', 'activity', 'that', 'many', 'autistic', 'adults', 'engage', 'in', 'many', 'people', 'with', 'autism', 'have', 'a', 'strong', 'tonal', 'sense', 'and', 'can', 'often', 'understand', 'spoken', 'language', 'some', 'children', 'may', 'exhibit', 'only', 'slight', 'delays', 'in', 'language', 'or', 'even', 'seem', 'to', 'have', 'precocious', 'language', 'and', 'unusually', 'large', 'vocabularies', 'but', 'have', 'great', 'difficulty', 'in', 'sustaining', 'typical', 'conversations', 'the', 'give', 'and', 'take', 'of', 'non', 'autistic', 'conversation', 'is', 'hard', 'for', 'them', 'although', 'they', 'often', 'carry', 'on', 'a', 'monologue', 'on', 'a', 'favorite', 'subject', 'giving', 'no', 'one', 'else', 'an', 'opportunity', 'to', 'comment', 'when', 'given', 'the', 'chance', 'to', 'converse', 'with', 'other', 'autistics', 'they', 'comfortably', 'do', 'so', 'in', 'parallel', 'monologue', 'taking', 'turns', 'expressing', 'views', 'and', 'information', 'just', 'as', 'neurotypicals', 'people', 'without', 'autism', 'have', 'trouble', 'understanding', 'autistic', 'body', 'languages', 'vocal', 'tones', 'or', 'phraseology', 'people', 'with', 'autism', 'similarly', 'have', 'trouble', 'with', 'such', 'things', 'in', 'people', 'without', 'autism', 'in', 'particular', 'autistic', 'language', 'abilities', 'tend', 'to', 'be', 'highly', 'literal', 'people', 'without', 'autism', 'often', 'inappropriately', 'attribute', 'hidden', 'meaning', 'to', 'what', 'people', 'with', 'autism', 'say', 'or', 'expect', 'the', 'person', 'with', 'autism', 'to', 'sense', 'such', 'unstated', 'meaning', 'in', 'their', 'own', 'words', 'the', 'body', 'language', 'of', 'people', 'with', 'autism', 'can', 'be', 'difficult', 'for', 'other', 'people', 'to', 'understand', 'facial', 'expressions', 'movements', 'and', 'gestures', 'may', 'be', 'easily', 'understood', 'by', 'some', 'other', 'people', 'with', 'autism', 'but', 'do', 'not', 'match', 'those', 'used', 'by', 'other', 'people', 'also', 'their', 'tone', 'of', 'voice', 'has', 'a', 'much', 'more', 'subtle', 'inflection', 'in', 'reflecting', 'their', 'feelings', 'and', 'the', 'auditory', 'system', 'of', 'a', 'person', 'without', 'autism', 'often', 'cannot', 'sense', 'the', 'fluctuations', 'what', 'seems', 'to', 'non', 'autistic', 'people', 'like', 'a', 'high', 'pitched', 'sing', 'song', 'or', 'flat', 'robot', 'like', 'voice', 'is', 'common', 'in', 'autistic', 'children', 'some', 'autistic', 'children', 'with', 'relatively', 'good', 'language', 'skills', 'speak', 'like', 'little', 'adults', 'rather', 'than', 'communicating', 'at', 'their', 'current', 'age', 'level', 'which', 'is', 'one', 'of', 'the', 'things', 'that', 'can', 'lead', 'to', 'problems', 'since', 'non', 'autistic', 'people', 'are', 'often', 'unfamiliar', 'with', 'the', 'autistic', 'body', 'language', 'and', 'since', 'autistic', 'natural', 'language', 'may', 'not', 'tend', 'towards', 'speech', 'autistic', 'people', 'often', 'struggle', 'to', 'let', 'other', 'people', 'know', 'what', 'they', 'need', 'as', 'anybody', 'might', 'do', 'in', 'such', 'a', 'situation', 'they', 'may', 'scream', 'in', 'frustration', 'or', 'resort', 'to', 'grabbing', 'what', 'they', 'want', 'while', 'waiting', 'for', 'non', 'autistic', 'people', 'to', 'learn', 'to', 'communicate', 'with', 'them', 'people', 'with', 'autism', 'do', 'whatever', 'they', 'can', 'to', 'get', 'through', 'to', 'them', 'communication', 'difficulties', 'may', 'contribute', 'to', 'autistic', 'people', 'becoming', 'socially', 'anxious', 'or', 'depressed', 'repetitive', 'behaviors', 'although', 'people', 'with', 'autism', 'usually', 'appear', 'physically', 'normal', 'and', 'have', 'good', 'muscle', 'control', 'unusual', 'repetitive', 'motions', 'known', 'as', 'self', 'stimulation', 'or', 'stimming', 'may', 'set', 'them', 'apart', 'these', 'behaviors', 'might', 'be', 'extreme', 'and', 'highly', 'apparent', 'or', 'more', 'subtle', 'some', 'children', 'and', 'older', 'individuals', 'spend', 'a', 'lot', 'of', 'time', 'repeatedly', 'flapping', 'their', 'arms', 'or', 'wiggling', 'their', 'toes', 'others', 'suddenly', 'freeze', 'in', 'position', 'as', 'children', 'they', 'might', 'spend', 'hours', 'lining', 'up', 'their', 'cars', 'and', 'trains', 'in', 'a', 'certain', 'way', 'not', 'using', 'them', 'for', 'pretend', 'play', 'if', 'someone', 'accidentally', 'moves', 'one', 'of', 'these', 'toys', 'the', 'child', 'may', 'be', 'tremendously', 'upset', 'autistic', 'children', 'often', 'need', 'and', 'demand', 'absolute', 'consistency', 'in', 'their', 'environment', 'a', 'slight', 'change', 'in', 'any', 'routine', 'in', 'mealtimes', 'dressing', 'taking', 'a', 'bath', 'or', 'going', 'to', 'school', 'at', 'a', 'certain', 'time', 'and', 'by', 'the', 'same', 'route', 'can', 'be', 'extremely', 'disturbing', 'people', 'with', 'autism', 'sometimes', 'have', 'a', 'persistent', 'intense', 'preoccupation', 'for', 'example', 'the', 'child', 'might', 'be', 'obsessed', 'with', 'learning', 'all', 'about', 'vacuum', 'cleaners', 'train', 'schedules', 'or', 'lighthouses', 'often', 'they', 'show', 'great', 'interest', 'in', 'different', 'languages', 'numbers', 'symbols', 'or', 'science', 'topics', 'repetitive', 'behaviors', 'can', 'also', 'extend', 'into', 'the', 'spoken', 'word', 'as', 'well', 'perseveration', 'of', 'a', 'single', 'word', 'or', 'phrase', 'even', 'for', 'a', 'specific', 'number', 'of', 'times', 'can', 'also', 'become', 'a', 'part', 'of', 'the', 'child', 's', 'daily', 'routine', 'effects', 'in', 'education', 'children', 'with', 'autism', 'are', 'affected', 'with', 'these', 'symptoms', 'every', 'day', 'these', 'unusual', 'characteristics', 'set', 'them', 'apart', 'from', 'the', 'everyday', 'normal', 'student', 'because', 'they', 'have', 'trouble', 'understanding', 'people', 's', 'thoughts', 'and', 'feelings', 'they', 'have', 'trouble', 'understanding', 'what', 'their', 'teacher', 'may', 'be', 'telling', 'them', 'they', 'do', 'not', 'understand', 'that', 'facial', 'expressions', 'and', 'vocal', 'variations', 'hold', 'meanings', 'and', 'may', 'misinterpret', 'what', 'emotion', 'their', 'instructor', 'is', 'displaying', 'this', 'inability', 'to', 'fully', 'decipher', 'the', 'world', 'around', 'them', 'makes', 'education', 'stressful', 'teachers', 'need', 'to', 'be', 'aware', 'of', 'a', 'student', 's', 'disorder', 'so', 'that', 'they', 'are', 'able', 'to', 'help', 'the', 'student', 'get', 'the', 'best', 'out', 'of', 'the', 'lessons', 'being', 'taught', 'some', 'students', 'learn', 'better', 'with', 'visual', 'aids', 'as', 'they', 'are', 'better', 'able', 'to', 'understand', 'material', 'presented', 'this', 'way', 'because', 'of', 'this', 'many', 'teachers', 'create', 'visual', 'schedules', 'for', 'their', 'autistic', 'students', 'this', 'allows', 'the', 'student', 'to', 'know', 'what', 'is', 'going', 'on', 'throughout', 'the', 'day', 'so', 'they', 'know', 'what', 'to', 'prepare', 'for', 'and', 'what', 'activity', 'they', 'will', 'be', 'doing', 'next', 'some', 'autistic', 'children', 'have', 'trouble', 'going', 'from', 'one', 'activity', 'to', 'the', 'next', 'so', 'this', 'visual', 'schedule', 'can', 'help', 'to', 'reduce', 'stress', 'research', 'has', 'shown', 'that', 'working', 'in', 'pairs', 'may', 'be', 'beneficial', 'to', 'autistic', 'children', 'autistic', 'students', 'have', 'problems', 'in', 'schools', 'not', 'only', 'with', 'language', 'and', 'communication', 'but', 'with', 'socialization', 'as', 'well', 'they', 'feel', 'self', 'conscious', 'about', 'themselves', 'and', 'many', 'feel', 'that', 'they', 'will', 'always', 'be', 'outcasts', 'by', 'allowing', 'them', 'to', 'work', 'with', 'peers', 'they', 'can', 'make', 'friends', 'which', 'in', 'turn', 'can', 'help', 'them', 'cope', 'with', 'the', 'problems', 'that', 'arise', 'by', 'doing', 'so', 'they', 'can', 'become', 'more', 'integrated', 'into', 'the', 'mainstream', 'environment', 'of', 'the', 'classroom', 'a', 'teacher', 's', 'aide', 'can', 'also', 'be', 'useful', 'to', 'the', 'student', 'the', 'aide', 'is', 'able', 'to', 'give', 'more', 'elaborate', 'directions', 'that', 'the', 'teacher', 'may', 'not', 'have', 'time', 'to', 'explain', 'to', 'the', 'autistic', 'child', 'the', 'aide', 'can', 'also', 'facilitate', 'the', 'autistic', 'child', 'in', 'such', 'a', 'way', 'as', 'to', 'allow', 'them', 'to', 'stay', 'at', 'a', 'similar', 'level', 'to', 'the', 'rest', 'of', 'the', 'class', 'this', 'allows', 'a', 'partially', 'one', 'on', 'one', 'lesson', 'structure', 'so', 'that', 'the', 'child', 'is', 'still', 'able', 'to', 'stay', 'in', 'a', 'normal', 'classroom', 'but', 'be', 'given', 'the', 'extra', 'help', 'that', 'they', 'need', 'there', 'are', 'many', 'different', 'techniques', 'that', 'teachers', 'can', 'use', 'to', 'assist', 'their', 'students', 'a', 'teacher', 'needs', 'to', 'become', 'familiar', 'with', 'the', 'child', 's', 'disorder', 'to', 'know', 'what', 'will', 'work', 'best', 'with', 'that', 'particular', 'child', 'every', 'child', 'is', 'going', 'to', 'be', 'different', 'and', 'teachers', 'have', 'to', 'be', 'able', 'to', 'adjust', 'with', 'every', 'one', 'of', 'them', 'students', 'with', 'autism', 'spectrum', 'disorders', 'typically', 'have', 'high', 'levels', 'of', 'anxiety', 'and', 'stress', 'particularly', 'in', 'social', 'environments', 'like', 'school', 'if', 'a', 'student', 'exhibits', 'aggressive', 'or', 'explosive', 'behavior', 'it', 'is', 'important', 'for', 'educational', 'teams', 'to', 'recognize', 'the', 'impact', 'of', 'stress', 'and', 'anxiety', 'preparing', 'students', 'for', 'new', 'situations', 'by', 'writing', 'social', 'stories', 'can', 'lower', 'anxiety', 'teaching', 'social', 'and', 'emotional', 'concepts', 'using', 'systematic', 'teaching', 'approaches', 'such', 'as', 'the', 'incredible', 'five', 'point', 'scale', 'or', 'other', 'cognitive', 'behavioral', 'strategies', 'can', 'increase', 'a', 'student', 's', 'ability', 'to', 'control', 'excessive', 'behavioral', 'reactions', 'dsm', 'definition', 'autism', 'is', 'defined', 'in', 'section', 'two', 'nine', 'nine', 'zero', 'zero', 'of', 'the', 'diagnostic', 'and', 'statistical', 'manual', 'of', 'mental', 'disorders', 'dsm', 'iv', 'as', 'a', 'total', 'of', 'six', 'or', 'more', 'items', 'from', 'one', 'two', 'and', 'three', 'with', 'at', 'least', 'two', 'from', 'one', 'and', 'one', 'each', 'from', 'two', 'and', 'three', 'qualitative', 'impairment', 'in', 'social', 'interaction', 'as', 'manifested', 'by', 'at', 'least', 'two', 'of', 'the', 'following', 'marked', 'impairment', 'in', 'the', 'use', 'of', 'multiple', 'nonverbal', 'behaviors', 'such', 'as', 'eye', 'to', 'eye', 'gaze', 'facial', 'expression', 'body', 'postures', 'and', 'gestures', 'to', 'regulate', 'social', 'interaction', 'failure', 'to', 'develop', 'peer', 'relationships', 'appropriate', 'to', 'developmental', 'level', 'a', 'lack', 'of', 'spontaneous', 'seeking', 'to', 'share', 'enjoyment', 'interests', 'or', 'achievements', 'with', 'other', 'people', 'e', 'g', 'by', 'a', 'lack', 'of', 'showing', 'bringing', 'or', 'pointing', 'out', 'objects', 'of', 'interest', 'lack', 'of', 'social', 'or', 'emotional'], tags=[0])]\n"
          ]
        }
      ],
      "source": [
        "import nltk\n",
        "\n",
        "nltk.download(\"punkt\")\n",
        "\n",
        "import gensim\n",
        "import gensim.downloader as api\n",
        "import time\n",
        "\n",
        "dataset = api.load(\"text8\")\n",
        "data = [d for d in dataset]\n",
        "\n",
        "\n",
        "def generator_tag_docs(data):\n",
        "    for i, l in enumerate(data):\n",
        "        yield gensim.models.doc2vec.TaggedDocument(l, [i])\n",
        "\n",
        "\n",
        "training_dataset = list(generator_tag_docs(data))\n",
        "\n",
        "print(training_dataset[:1])"
      ]
    },
    {
      "cell_type": "code",
      "execution_count": null,
      "metadata": {
        "colab": {
          "base_uri": "https://localhost:8080/"
        },
        "id": "DGtcukLabCr9",
        "outputId": "794718bf-e7da-4a4b-9dbe-af795f7cb934"
      },
      "outputs": [
        {
          "name": "stdout",
          "output_type": "stream",
          "text": [
            "Doc2Vec model trained. 225.96279573440552 seconds elapsed.\n"
          ]
        }
      ],
      "source": [
        "from gensim.models import Doc2Vec\n",
        "\n",
        "doc2vec_model = Doc2Vec()\n",
        "doc2vec_model.build_vocab(training_dataset)\n",
        "start = time.time()\n",
        "doc2vec_model.train(\n",
        "    training_dataset,\n",
        "    total_examples=doc2vec_model.corpus_count,\n",
        "    epochs=doc2vec_model.epochs,\n",
        ")\n",
        "end = time.time()\n",
        "doc2vec_model.save(\"doc2vec_text8.model\")\n",
        "print(f\"Doc2Vec model trained. {end-start} seconds elapsed.\")"
      ]
    },
    {
      "cell_type": "markdown",
      "metadata": {
        "id": "gCqY7VFOwsK9"
      },
      "source": [
        "### **Question 7 (Doc2Vec qualitative evaluation)**\n",
        "Perform some **qualitative** experiments by computing the cosine similarities between sentences composed by yourself.\n",
        "For example, you can use the following sentences:\n",
        "\n",
        "```python\n",
        "s1 = \"The president of the United States is Donald Trump\"\n",
        "s2 = \"The president of the United States is Joe Biden\"\n",
        "s3 = \"United States is a country\"\n",
        "s4 = \"The cell phone is a device\"\n",
        "```\n",
        "\n",
        "Please try to interact with the model by providing different sentences and check the results. Is the model able to capture the semantic meaning of the sentences? Are you satisfied with the results?"
      ]
    },
    {
      "cell_type": "code",
      "execution_count": null,
      "metadata": {
        "colab": {
          "base_uri": "https://localhost:8080/"
        },
        "id": "J3Io0wWRDktF",
        "outputId": "90e2ffd4-1259-4e31-fccb-643a547fb703"
      },
      "outputs": [
        {
          "name": "stdout",
          "output_type": "stream",
          "text": [
            "Cosine similarity between s1 and s2: [0.822847]\n",
            "Cosine similarity between s3 and s4: [0.7301078]\n",
            "Cosine similarity between s1 and s4: [0.70971566]\n",
            "Cosine similarity between s2 and s5: [0.58107346]\n",
            "Cosine similarity between s3 and s6: [0.24988657]\n",
            "Cosine similarity between s6 and s7: [0.576627]\n"
          ]
        }
      ],
      "source": [
        "s1 = \"The president of the United States is Donald Trump\"\n",
        "s2 = \"The president of the United States is Joe Biden\"\n",
        "s3 = \"United States is a country\"\n",
        "s4 = \"The cell phone is a device\"\n",
        "s5 = \"I have written a new sentence with a different structure\"\n",
        "s6 = \"This model struggles to capture meaning of the sentences\"\n",
        "s7 = \"The model is undergoing difficulties related to inferring context for the phrases\"\n",
        "\n",
        "\n",
        "def get_similarity(s1, s2):\n",
        "  v1 = doc2vec_model.infer_vector(s1.split())\n",
        "  v2 = doc2vec_model.infer_vector(s2.split())\n",
        "  return doc2vec_model.dv.cosine_similarities(v1, [v2])\n",
        "\n",
        "print(f\"Cosine similarity between s1 and s2: {get_similarity(s1, s2)}\")\n",
        "print(f\"Cosine similarity between s3 and s4: {get_similarity(s3, s4)}\")\n",
        "print(f\"Cosine similarity between s1 and s4: {get_similarity(s1, s4)}\")\n",
        "print(f\"Cosine similarity between s2 and s5: {get_similarity(s2, s5)}\")\n",
        "print(f\"Cosine similarity between s3 and s6: {get_similarity(s3, s6)}\")\n",
        "print(f\"Cosine similarity between s6 and s7: {get_similarity(s6, s7)}\")"
      ]
    },
    {
      "cell_type": "markdown",
      "metadata": {
        "id": "svIaGwtADYGF"
      },
      "source": [
        "### **Question 8**\n",
        "\n",
        "Load the InferSent model provided by Facebook Research ([reference](https://github.com/facebookresearch/InferSent)) and perform the same qualitative evaluation done in Question 7. In this case, you can use the InferSent pretrained model (v2) - [reference](https://github.com/facebookresearch/InferSent).\n",
        "\n",
        "Try to find some sentences for which InferSent is able to capture the semantic meaning of the sentences as opposed to Doc2Vec. Are you satisfied with the results? Which model is able to better capture the semantic meaning of the sentences? What can be the reason for this?\n",
        "\n",
        "**Notes:**\n",
        "Please find below the code to download the InferSent model."
      ]
    },
    {
      "cell_type": "code",
      "execution_count": 2,
      "metadata": {
        "id": "hG6RRflnAb9m"
      },
      "outputs": [],
      "source": [
        "s1 = \"The president of the United States is Donald Trump\"\n",
        "s2 = \"The president of the United States is Joe Biden\"\n",
        "s3 = \"United States is a country\"\n",
        "s4 = \"The cell phone is a device\"\n",
        "s5 = \"I have written a new sentence with a different structure\"\n",
        "s6 = \"This model struggles to capture meaning of the sentences\"\n",
        "s7 = \"The model is undergoing difficulties related to inferring context for the phrases\"\n",
        "\n",
        "sentences = [s1, s2, s3, s4, s5, s6, s7]"
      ]
    },
    {
      "cell_type": "code",
      "execution_count": null,
      "metadata": {
        "id": "JCIQ1EEUYEwk"
      },
      "outputs": [],
      "source": [
        "%%capture\n",
        "# InferSent download required files\n",
        "\n",
        "! mkdir fastText\n",
        "! curl -Lo fastText/crawl-300d-2M.vec.zip https://dl.fbaipublicfiles.com/fasttext/vectors-english/crawl-300d-2M.vec.zip\n",
        "! unzip fastText/crawl-300d-2M.vec.zip -d fastText/\n",
        "! mkdir encoder\n",
        "! curl -Lo encoder/infersent2.pkl https://dl.fbaipublicfiles.com/infersent/infersent2.pkl\n",
        "! git clone https://github.com/facebookresearch/InferSent.git"
      ]
    },
    {
      "cell_type": "code",
      "execution_count": null,
      "metadata": {
        "id": "QmtxnnC0Y9Cb"
      },
      "outputs": [],
      "source": [
        "from InferSent.models import InferSent\n",
        "import torch\n",
        "\n",
        "V = 2\n",
        "MODEL_PATH = \"encoder/infersent%s.pkl\" % V\n",
        "params_model = {\n",
        "    \"bsize\": 64,\n",
        "    \"word_emb_dim\": 300,\n",
        "    \"enc_lstm_dim\": 2048,\n",
        "    \"pool_type\": \"max\",\n",
        "    \"dpout_model\": 0.0,\n",
        "    \"version\": V,\n",
        "}\n",
        "infersent = InferSent(params_model)\n",
        "infersent.load_state_dict(torch.load(MODEL_PATH))\n",
        "\n",
        "W2V_PATH = \"fastText/crawl-300d-2M.vec\"\n",
        "infersent.set_w2v_path(W2V_PATH)"
      ]
    },
    {
      "cell_type": "code",
      "execution_count": null,
      "metadata": {
        "colab": {
          "base_uri": "https://localhost:8080/"
        },
        "id": "D6Pp5_doFcZs",
        "outputId": "7a0b46b4-30f2-4bcf-823c-9b1f7736f12f"
      },
      "outputs": [
        {
          "name": "stdout",
          "output_type": "stream",
          "text": [
            "Found 40(/40) words with w2v vectors\n",
            "Vocab size : 40\n"
          ]
        }
      ],
      "source": [
        "infersent.build_vocab(sentences, tokenize=True)\n",
        "embeddings = infersent.encode(sentences, tokenize=True)"
      ]
    },
    {
      "cell_type": "code",
      "execution_count": null,
      "metadata": {
        "colab": {
          "base_uri": "https://localhost:8080/"
        },
        "id": "ZduuMb4Tjlcx",
        "outputId": "c6652f1d-b1f0-42da-a995-6ff50b97291c"
      },
      "outputs": [
        {
          "name": "stdout",
          "output_type": "stream",
          "text": [
            "Cosine similarity between s1 and s2: 0.8108417987823486\n",
            "Cosine similarity between s3 and s4: 0.28624817728996277\n",
            "Cosine similarity between s1 and s4: 0.09907999634742737\n",
            "Cosine similarity between s2 and s5: 0.06086566671729088\n",
            "Cosine similarity between s3 and s6: 0.10468509793281555\n",
            "Cosine similarity between s6 and s7: 0.6279629468917847\n"
          ]
        }
      ],
      "source": [
        "from sklearn.metrics.pairwise import cosine_similarity\n",
        "import numpy as np\n",
        "\n",
        "\n",
        "def get_similarity_infersent(s1, s2):\n",
        "    index_s1 = sentences.index(s1)\n",
        "    index_s2 = sentences.index(s2)\n",
        "\n",
        "    emb1 = np.array(embeddings[index_s1]).reshape(1, -1)\n",
        "    emb2 = np.array(embeddings[index_s2]).reshape(1, -1)\n",
        "\n",
        "    similarity = cosine_similarity(emb1, emb2)\n",
        "    return similarity[0][0]\n",
        "\n",
        "\n",
        "print(f\"Cosine similarity between s1 and s2: {get_similarity_infersent(s1, s2)}\")\n",
        "print(f\"Cosine similarity between s3 and s4: {get_similarity_infersent(s3, s4)}\")\n",
        "print(f\"Cosine similarity between s1 and s4: {get_similarity_infersent(s1, s4)}\")\n",
        "print(f\"Cosine similarity between s2 and s5: {get_similarity_infersent(s2, s5)}\")\n",
        "print(f\"Cosine similarity between s3 and s6: {get_similarity_infersent(s3, s6)}\")\n",
        "print(f\"Cosine similarity between s6 and s7: {get_similarity_infersent(s6, s7)}\")"
      ]
    },
    {
      "cell_type": "markdown",
      "metadata": {
        "id": "OBqLp1LnTeME"
      },
      "source": [
        "### **Question 9** (Extrinsic Evaluation)\n",
        "\n",
        "**Extrinsic** evaluation aims at measuring the performance of the word/sentence/paragraph embedding model when used in a downstream task. In this case, we will use the model to perform a text classification task.\n",
        "We can use different configuration, training corpora or even different models to build a complete architecture for the task at hand.\n",
        "\n",
        "For this practice we use the text classification dataset available [here](https://github.com/MorenoLaQuatra/DeepNLP/blob/main/practices/P2/news_headline_classification.csv) - [source: Kaggle](https://www.kaggle.com/rmisra/news-category-dataset). It contains news headlines and the corresponding category. The dataset is composed by 200846 divided into multiple categories (e.g. politics, business, sports, etc.).\n",
        "\n",
        "**Note:** consider using just the first 10.000 headlines to reduce runtime during the lab. You can use the complete data collection at home to achieve better results.\n",
        "\n",
        "Compute the accuracy of 3 classification models each one built with one of the models introduced in this practice:\n",
        "- Word2Vec model pretrained on Google News corpus\n",
        "- FastText model pretrained on Wikipedia+News corpus\n",
        "- **[Optional]** Doc2Vec model pretrained on Text8 corpus\n",
        "- **[Optional]** InferSent pretrained model (v2) - [reference](https://github.com/facebookresearch/InferSent)\n",
        "\n",
        "The procedure to create a classification system is sketched below:\n",
        "1. Choose a machine learning (multi-class) classifier (e.g., MLP)\n",
        "2. Split the data collection in train/test (80%/20%)\n",
        "3. Use text vectors obtained by pretrained model as input of the classifier\n",
        "4. Measure the accuracy of the classification system\n",
        "5. Repeat step 3-4 using different embedding models\n",
        "\n",
        "\n",
        "**Note:** For word embedding models you must use an aggregation strategy to obtain a single vector for each sentence. You can use the average of the word vectors or the sum of the word vectors. In both cases, the output vector can be used as input of the classifier.\n",
        "\n",
        "Report the performance of each classification pipeline. Which model has better performance? Why? Try to elaborate on the results."
      ]
    },
    {
      "cell_type": "code",
      "execution_count": null,
      "metadata": {
        "colab": {
          "base_uri": "https://localhost:8080/"
        },
        "id": "qp2k7npVeoTB",
        "outputId": "55c45d52-1594-417e-b48a-8be7496ceb31"
      },
      "outputs": [],
      "source": [
        "!wget https://raw.githubusercontent.com/MorenoLaQuatra/DeepNLP/main/practices/P2/news_headline_classification.csv"
      ]
    },
    {
      "cell_type": "code",
      "execution_count": 10,
      "metadata": {
        "id": "R-jdTBgZgICi"
      },
      "outputs": [],
      "source": [
        "import pandas as pd\n",
        "\n",
        "dataset = pd.read_csv(\"news_headline_classification.csv\")\n",
        "sentences = dataset[\"headline\"].tolist()\n",
        "labels = dataset[\"category\"].tolist()"
      ]
    },
    {
      "cell_type": "markdown",
      "metadata": {
        "id": "9VBbEBO6xmEL"
      },
      "source": [
        "**Word2Vec + Average aggregation function**"
      ]
    },
    {
      "cell_type": "code",
      "execution_count": null,
      "metadata": {
        "colab": {
          "base_uri": "https://localhost:8080/"
        },
        "id": "fUM1WOMqgC7b",
        "outputId": "f84e2e9e-d8cd-47e9-ea4c-94fdf5ed03b1"
      },
      "outputs": [
        {
          "name": "stderr",
          "output_type": "stream",
          "text": [
            "100%|██████████| 200847/200847 [00:37<00:00, 5292.50it/s]\n"
          ]
        },
        {
          "name": "stdout",
          "output_type": "stream",
          "text": [
            "Iteration 1, loss = 3.34525746\n",
            "Iteration 2, loss = 3.28456339\n",
            "Iteration 3, loss = 3.28466959\n",
            "Iteration 4, loss = 3.28466676\n",
            "Iteration 5, loss = 3.28459998\n",
            "Iteration 6, loss = 3.28454753\n",
            "Iteration 7, loss = 3.28453252\n",
            "Iteration 8, loss = 3.28458385\n",
            "Iteration 9, loss = 3.28454836\n",
            "Iteration 10, loss = 3.28454491\n",
            "Iteration 11, loss = 3.28447029\n",
            "Iteration 12, loss = 3.28451829\n",
            "Iteration 13, loss = 3.28448608\n",
            "Training loss did not improve more than tol=0.000100 for 10 consecutive epochs. Stopping.\n",
            "0.16370425690814042\n"
          ]
        },
        {
          "name": "stderr",
          "output_type": "stream",
          "text": [
            "/usr/local/lib/python3.10/dist-packages/sklearn/metrics/_classification.py:1344: UndefinedMetricWarning: Precision and F-score are ill-defined and being set to 0.0 in labels with no predicted samples. Use `zero_division` parameter to control this behavior.\n",
            "  _warn_prf(average, modifier, msg_start, len(result))\n"
          ]
        },
        {
          "name": "stdout",
          "output_type": "stream",
          "text": [
            "                precision    recall  f1-score   support\n",
            "\n",
            "          ARTS       0.00      0.00      0.00       314\n",
            "ARTS & CULTURE       0.00      0.00      0.00       272\n",
            "  BLACK VOICES       0.00      0.00      0.00       874\n",
            "      BUSINESS       0.00      0.00      0.00      1139\n",
            "       COLLEGE       0.00      0.00      0.00       216\n",
            "        COMEDY       0.00      0.00      0.00      1082\n",
            "         CRIME       0.00      0.00      0.00       682\n",
            "CULTURE & ARTS       0.00      0.00      0.00       208\n",
            "       DIVORCE       0.00      0.00      0.00       694\n",
            "     EDUCATION       0.00      0.00      0.00       207\n",
            " ENTERTAINMENT       0.00      0.00      0.00      3182\n",
            "   ENVIRONMENT       0.00      0.00      0.00       255\n",
            "         FIFTY       0.00      0.00      0.00       305\n",
            "  FOOD & DRINK       0.00      0.00      0.00      1301\n",
            "     GOOD NEWS       0.00      0.00      0.00       273\n",
            "         GREEN       0.00      0.00      0.00       518\n",
            "HEALTHY LIVING       0.00      0.00      0.00      1327\n",
            " HOME & LIVING       0.00      0.00      0.00       874\n",
            "        IMPACT       0.00      0.00      0.00       740\n",
            " LATINO VOICES       0.00      0.00      0.00       205\n",
            "         MEDIA       0.00      0.00      0.00       551\n",
            "         MONEY       0.00      0.00      0.00       306\n",
            "     PARENTING       0.00      0.00      0.00      1780\n",
            "       PARENTS       0.00      0.00      0.00       804\n",
            "      POLITICS       0.16      1.00      0.28      6576\n",
            "  QUEER VOICES       0.00      0.00      0.00      1232\n",
            "      RELIGION       0.00      0.00      0.00       512\n",
            "       SCIENCE       0.00      0.00      0.00       431\n",
            "        SPORTS       0.00      0.00      0.00       986\n",
            "         STYLE       0.00      0.00      0.00       468\n",
            "STYLE & BEAUTY       0.00      0.00      0.00      1874\n",
            "         TASTE       0.00      0.00      0.00       433\n",
            "          TECH       0.00      0.00      0.00       387\n",
            " THE WORLDPOST       0.00      0.00      0.00       733\n",
            "        TRAVEL       0.00      0.00      0.00      2001\n",
            "      WEDDINGS       0.00      0.00      0.00       752\n",
            "    WEIRD NEWS       0.00      0.00      0.00       514\n",
            "      WELLNESS       0.00      0.00      0.00      3564\n",
            "         WOMEN       0.00      0.00      0.00       690\n",
            "    WORLD NEWS       0.00      0.00      0.00       427\n",
            "     WORLDPOST       0.00      0.00      0.00       481\n",
            "\n",
            "      accuracy                           0.16     40170\n",
            "     macro avg       0.00      0.02      0.01     40170\n",
            "  weighted avg       0.03      0.16      0.05     40170\n",
            "\n"
          ]
        },
        {
          "name": "stderr",
          "output_type": "stream",
          "text": [
            "/usr/local/lib/python3.10/dist-packages/sklearn/metrics/_classification.py:1344: UndefinedMetricWarning: Precision and F-score are ill-defined and being set to 0.0 in labels with no predicted samples. Use `zero_division` parameter to control this behavior.\n",
            "  _warn_prf(average, modifier, msg_start, len(result))\n",
            "/usr/local/lib/python3.10/dist-packages/sklearn/metrics/_classification.py:1344: UndefinedMetricWarning: Precision and F-score are ill-defined and being set to 0.0 in labels with no predicted samples. Use `zero_division` parameter to control this behavior.\n",
            "  _warn_prf(average, modifier, msg_start, len(result))\n"
          ]
        }
      ],
      "source": [
        "from nltk import word_tokenize\n",
        "import numpy as np\n",
        "from tqdm import tqdm\n",
        "\n",
        "list_w2v_vectors = []\n",
        "for s in tqdm(sentences):\n",
        "    words = word_tokenize(s)\n",
        "    words_vectors = []\n",
        "    for w in words:\n",
        "        try:\n",
        "            words_vectors.append(w2v_google_news_model[w])\n",
        "        except Exception as e:\n",
        "            continue\n",
        "    if len(words_vectors) > 0:\n",
        "        sentence_vector = np.mean(words_vectors, axis=0)\n",
        "    else:\n",
        "        sentence_vector = np.zeros(300)\n",
        "    list_w2v_vectors.append(sentence_vector)\n",
        "\n",
        "\n",
        "from sklearn.neural_network import MLPClassifier\n",
        "from sklearn.model_selection import train_test_split\n",
        "from sklearn.metrics import accuracy_score, classification_report\n",
        "\n",
        "X_train, X_test, y_train, y_test = train_test_split(\n",
        "    list_w2v_vectors, labels, test_size=0.20, random_state=42\n",
        ")\n",
        "mlp = MLPClassifier(hidden_layer_sizes=(50), verbose=True)\n",
        "mlp = mlp.fit(X_train, y_train)\n",
        "y_pred = mlp.predict(X_test)\n",
        "print(accuracy_score(y_test, y_pred))\n",
        "print(classification_report(y_test, y_pred))"
      ]
    },
    {
      "cell_type": "markdown",
      "metadata": {
        "id": "kTLSmUJXxeId"
      },
      "source": [
        "**FastText + Average aggregation function**"
      ]
    },
    {
      "cell_type": "code",
      "execution_count": null,
      "metadata": {
        "colab": {
          "base_uri": "https://localhost:8080/"
        },
        "id": "cFHh0MXGvzv2",
        "outputId": "90e41b24-2e7c-4154-f7ae-8ba423bca4d9"
      },
      "outputs": [
        {
          "name": "stderr",
          "output_type": "stream",
          "text": [
            "100%|██████████| 200847/200847 [00:57<00:00, 3518.93it/s]\n"
          ]
        },
        {
          "name": "stdout",
          "output_type": "stream",
          "text": [
            "Iteration 1, loss = 2.83543552\n",
            "Iteration 2, loss = 2.20636800\n",
            "Iteration 3, loss = 1.97942892\n",
            "Iteration 4, loss = 1.87505088\n",
            "Iteration 5, loss = 1.81175184\n",
            "Iteration 6, loss = 1.76877782\n",
            "Iteration 7, loss = 1.73823985\n",
            "Iteration 8, loss = 1.71467398\n",
            "Iteration 9, loss = 1.69626063\n",
            "Iteration 10, loss = 1.68089348\n",
            "Iteration 11, loss = 1.66792000\n",
            "Iteration 12, loss = 1.65679504\n",
            "Iteration 13, loss = 1.64694452\n",
            "Iteration 14, loss = 1.63850418\n",
            "Iteration 15, loss = 1.63108974\n",
            "Iteration 16, loss = 1.62381656\n",
            "Iteration 17, loss = 1.61762031\n",
            "Iteration 18, loss = 1.61178362\n",
            "Iteration 19, loss = 1.60693028\n",
            "Iteration 20, loss = 1.60201445\n",
            "Iteration 21, loss = 1.59781175\n",
            "Iteration 22, loss = 1.59376225\n",
            "Iteration 23, loss = 1.58963672\n",
            "Iteration 24, loss = 1.58636926\n",
            "Iteration 25, loss = 1.58288734\n",
            "Iteration 26, loss = 1.57972741\n",
            "Iteration 27, loss = 1.57668554\n",
            "Iteration 28, loss = 1.57402112\n",
            "Iteration 29, loss = 1.57145189\n",
            "Iteration 30, loss = 1.56942948\n",
            "Iteration 31, loss = 1.56693735\n",
            "Iteration 32, loss = 1.56449196\n",
            "Iteration 33, loss = 1.56254899\n",
            "Iteration 34, loss = 1.56029959\n",
            "Iteration 35, loss = 1.55838695\n",
            "Iteration 36, loss = 1.55658613\n",
            "Iteration 37, loss = 1.55494773\n",
            "Iteration 38, loss = 1.55314163\n",
            "Iteration 39, loss = 1.55163432\n",
            "Iteration 40, loss = 1.54990407\n",
            "Iteration 41, loss = 1.54838788\n",
            "Iteration 42, loss = 1.54708215\n",
            "Iteration 43, loss = 1.54549560\n",
            "Iteration 44, loss = 1.54422739\n",
            "Iteration 45, loss = 1.54310223\n",
            "Iteration 46, loss = 1.54172550\n",
            "Iteration 47, loss = 1.54053253\n",
            "Iteration 48, loss = 1.53981623\n",
            "Iteration 49, loss = 1.53812737\n",
            "Iteration 50, loss = 1.53751088\n",
            "Iteration 51, loss = 1.53629109\n",
            "Iteration 52, loss = 1.53550088\n",
            "Iteration 53, loss = 1.53408781\n",
            "Iteration 54, loss = 1.53297788\n",
            "Iteration 55, loss = 1.53227799\n",
            "Iteration 56, loss = 1.53112834\n",
            "Iteration 57, loss = 1.53042486\n",
            "Iteration 58, loss = 1.52974174\n",
            "Iteration 59, loss = 1.52851587\n",
            "Iteration 60, loss = 1.52784249\n",
            "Iteration 61, loss = 1.52719889\n",
            "Iteration 62, loss = 1.52623154\n",
            "Iteration 63, loss = 1.52556478\n",
            "Iteration 64, loss = 1.52482162\n",
            "Iteration 65, loss = 1.52405567\n",
            "Iteration 66, loss = 1.52362298\n",
            "Iteration 67, loss = 1.52243488\n",
            "Iteration 68, loss = 1.52181523\n",
            "Iteration 69, loss = 1.52145958\n",
            "Iteration 70, loss = 1.52048482\n",
            "Iteration 71, loss = 1.52000252\n",
            "Iteration 72, loss = 1.51905430\n",
            "Iteration 73, loss = 1.51891375\n",
            "Iteration 74, loss = 1.51811533\n",
            "Iteration 75, loss = 1.51746132\n",
            "Iteration 76, loss = 1.51680624\n",
            "Iteration 77, loss = 1.51617289\n",
            "Iteration 78, loss = 1.51568368\n",
            "Iteration 79, loss = 1.51494330\n",
            "Iteration 80, loss = 1.51443039\n",
            "Iteration 81, loss = 1.51405038\n",
            "Iteration 82, loss = 1.51366975\n",
            "Iteration 83, loss = 1.51305898\n",
            "Iteration 84, loss = 1.51233081\n",
            "Iteration 85, loss = 1.51197242\n",
            "Iteration 86, loss = 1.51162057\n",
            "Iteration 87, loss = 1.51122204\n",
            "Iteration 88, loss = 1.51072562\n",
            "Iteration 89, loss = 1.50997869\n",
            "Iteration 90, loss = 1.50971020\n",
            "Iteration 91, loss = 1.50892264\n",
            "Iteration 92, loss = 1.50884142\n",
            "Iteration 93, loss = 1.50835900\n",
            "Iteration 94, loss = 1.50823211\n",
            "Iteration 95, loss = 1.50766627\n",
            "Iteration 96, loss = 1.50694887\n",
            "Iteration 97, loss = 1.50618247\n",
            "Iteration 98, loss = 1.50656803\n",
            "Iteration 99, loss = 1.50594230\n",
            "Iteration 100, loss = 1.50545342\n",
            "Iteration 101, loss = 1.50519741\n",
            "Iteration 102, loss = 1.50461557\n",
            "Iteration 103, loss = 1.50427459\n",
            "Iteration 104, loss = 1.50406000\n",
            "Iteration 105, loss = 1.50359364\n",
            "Iteration 106, loss = 1.50325828\n",
            "Iteration 107, loss = 1.50303667\n",
            "Iteration 108, loss = 1.50263467\n",
            "Iteration 109, loss = 1.50218994\n",
            "Iteration 110, loss = 1.50185487\n",
            "Iteration 111, loss = 1.50134449\n",
            "Iteration 112, loss = 1.50112613\n",
            "Iteration 113, loss = 1.50073994\n",
            "Iteration 114, loss = 1.50078887\n",
            "Iteration 115, loss = 1.50004369\n",
            "Iteration 116, loss = 1.49999249\n",
            "Iteration 117, loss = 1.49968248\n",
            "Iteration 118, loss = 1.49925973\n",
            "Iteration 119, loss = 1.49877067\n",
            "Iteration 120, loss = 1.49899381\n",
            "Iteration 121, loss = 1.49854616\n",
            "Iteration 122, loss = 1.49790455\n",
            "Iteration 123, loss = 1.49801734\n",
            "Iteration 124, loss = 1.49726730\n",
            "Iteration 125, loss = 1.49735157\n",
            "Iteration 126, loss = 1.49704395\n",
            "Iteration 127, loss = 1.49675302\n",
            "Iteration 128, loss = 1.49631440\n",
            "Iteration 129, loss = 1.49622852\n",
            "Iteration 130, loss = 1.49608075\n",
            "Iteration 131, loss = 1.49560561\n",
            "Iteration 132, loss = 1.49513634\n",
            "Iteration 133, loss = 1.49526791\n",
            "Iteration 134, loss = 1.49490471\n",
            "Iteration 135, loss = 1.49501300\n",
            "Iteration 136, loss = 1.49469003\n",
            "Iteration 137, loss = 1.49416160\n",
            "Iteration 138, loss = 1.49382499\n",
            "Iteration 139, loss = 1.49413021\n",
            "Iteration 140, loss = 1.49322591\n",
            "Iteration 141, loss = 1.49336796\n",
            "Iteration 142, loss = 1.49328002\n",
            "Iteration 143, loss = 1.49274827\n",
            "Iteration 144, loss = 1.49267534\n",
            "Iteration 145, loss = 1.49239784\n",
            "Iteration 146, loss = 1.49206905\n",
            "Iteration 147, loss = 1.49194560\n",
            "Iteration 148, loss = 1.49158708\n",
            "Iteration 149, loss = 1.49128265\n",
            "Iteration 150, loss = 1.49127328\n",
            "Iteration 151, loss = 1.49104604\n",
            "Iteration 152, loss = 1.49082971\n",
            "Iteration 153, loss = 1.49084192\n",
            "Iteration 154, loss = 1.49033906\n",
            "Iteration 155, loss = 1.49032026\n",
            "Iteration 156, loss = 1.48994540\n",
            "Iteration 157, loss = 1.48989086\n",
            "Iteration 158, loss = 1.48981291\n",
            "Iteration 159, loss = 1.48922088\n",
            "Iteration 160, loss = 1.48941880\n",
            "Iteration 161, loss = 1.48900485\n",
            "Iteration 162, loss = 1.48902078\n",
            "Iteration 163, loss = 1.48870790\n",
            "Iteration 164, loss = 1.48858949\n",
            "Iteration 165, loss = 1.48836947\n",
            "Iteration 166, loss = 1.48793663\n",
            "Iteration 167, loss = 1.48806031\n",
            "Iteration 168, loss = 1.48776608\n",
            "Iteration 169, loss = 1.48751851\n",
            "Iteration 170, loss = 1.48755664\n",
            "Iteration 171, loss = 1.48735754\n",
            "Iteration 172, loss = 1.48738168\n",
            "Iteration 173, loss = 1.48687888\n",
            "Iteration 174, loss = 1.48675623\n",
            "Iteration 175, loss = 1.48651818\n",
            "Iteration 176, loss = 1.48643128\n",
            "Iteration 177, loss = 1.48607478\n",
            "Iteration 178, loss = 1.48595900\n",
            "Iteration 179, loss = 1.48566287\n",
            "Iteration 180, loss = 1.48536317\n",
            "Iteration 181, loss = 1.48588691\n",
            "Iteration 182, loss = 1.48567431\n",
            "Iteration 183, loss = 1.48504453\n",
            "Iteration 184, loss = 1.48520105\n",
            "Iteration 185, loss = 1.48493168\n",
            "Iteration 186, loss = 1.48474147\n",
            "Iteration 187, loss = 1.48456109\n",
            "Iteration 188, loss = 1.48430291\n",
            "Iteration 189, loss = 1.48447988\n",
            "Iteration 190, loss = 1.48404680\n",
            "Iteration 191, loss = 1.48398642\n",
            "Iteration 192, loss = 1.48408335\n",
            "Iteration 193, loss = 1.48391302\n",
            "Iteration 194, loss = 1.48380711\n",
            "Iteration 195, loss = 1.48367090\n",
            "Iteration 196, loss = 1.48323046\n",
            "Iteration 197, loss = 1.48294347\n",
            "Iteration 198, loss = 1.48303034\n",
            "Iteration 199, loss = 1.48272176\n",
            "Iteration 200, loss = 1.48234192\n"
          ]
        },
        {
          "name": "stderr",
          "output_type": "stream",
          "text": [
            "/usr/local/lib/python3.10/dist-packages/sklearn/neural_network/_multilayer_perceptron.py:686: ConvergenceWarning: Stochastic Optimizer: Maximum iterations (200) reached and the optimization hasn't converged yet.\n",
            "  warnings.warn(\n"
          ]
        },
        {
          "name": "stdout",
          "output_type": "stream",
          "text": [
            "0.5553895942245457\n",
            "                precision    recall  f1-score   support\n",
            "\n",
            "          ARTS       0.28      0.17      0.21       314\n",
            "ARTS & CULTURE       0.33      0.18      0.24       272\n",
            "  BLACK VOICES       0.41      0.28      0.34       874\n",
            "      BUSINESS       0.41      0.38      0.40      1139\n",
            "       COLLEGE       0.38      0.31      0.34       216\n",
            "        COMEDY       0.47      0.29      0.35      1082\n",
            "         CRIME       0.53      0.55      0.54       682\n",
            "CULTURE & ARTS       0.46      0.22      0.30       208\n",
            "       DIVORCE       0.64      0.54      0.59       694\n",
            "     EDUCATION       0.36      0.30      0.33       207\n",
            " ENTERTAINMENT       0.56      0.72      0.63      3182\n",
            "   ENVIRONMENT       0.44      0.25      0.32       255\n",
            "         FIFTY       0.35      0.15      0.21       305\n",
            "  FOOD & DRINK       0.60      0.71      0.65      1301\n",
            "     GOOD NEWS       0.32      0.21      0.26       273\n",
            "         GREEN       0.38      0.32      0.35       518\n",
            "HEALTHY LIVING       0.32      0.21      0.26      1327\n",
            " HOME & LIVING       0.57      0.70      0.63       874\n",
            "        IMPACT       0.35      0.21      0.26       740\n",
            " LATINO VOICES       0.47      0.34      0.39       205\n",
            "         MEDIA       0.53      0.31      0.39       551\n",
            "         MONEY       0.44      0.38      0.41       306\n",
            "     PARENTING       0.48      0.55      0.51      1780\n",
            "       PARENTS       0.36      0.32      0.34       804\n",
            "      POLITICS       0.68      0.80      0.74      6576\n",
            "  QUEER VOICES       0.63      0.57      0.60      1232\n",
            "      RELIGION       0.56      0.46      0.50       512\n",
            "       SCIENCE       0.61      0.49      0.55       431\n",
            "        SPORTS       0.65      0.68      0.67       986\n",
            "         STYLE       0.39      0.34      0.36       468\n",
            "STYLE & BEAUTY       0.71      0.74      0.72      1874\n",
            "         TASTE       0.38      0.22      0.28       433\n",
            "          TECH       0.42      0.51      0.46       387\n",
            " THE WORLDPOST       0.44      0.53      0.48       733\n",
            "        TRAVEL       0.67      0.71      0.69      2001\n",
            "      WEDDINGS       0.73      0.66      0.69       752\n",
            "    WEIRD NEWS       0.33      0.31      0.32       514\n",
            "      WELLNESS       0.53      0.67      0.59      3564\n",
            "         WOMEN       0.33      0.27      0.30       690\n",
            "    WORLD NEWS       0.26      0.06      0.09       427\n",
            "     WORLDPOST       0.37      0.29      0.33       481\n",
            "\n",
            "      accuracy                           0.56     40170\n",
            "     macro avg       0.47      0.41      0.43     40170\n",
            "  weighted avg       0.54      0.56      0.54     40170\n",
            "\n"
          ]
        }
      ],
      "source": [
        "# FastText + Avg\n",
        "from nltk import word_tokenize\n",
        "\n",
        "list_ft_vectors = []\n",
        "for s in tqdm(sentences):\n",
        "    words = word_tokenize(s)\n",
        "    words_vectors = []\n",
        "    for w in words:\n",
        "        try:\n",
        "            words_vectors.append(ft_wiki_news_model[w])\n",
        "        except Exception as e:\n",
        "            # print (e)\n",
        "            continue\n",
        "    if len(words_vectors) > 0:\n",
        "        sentence_vector = np.mean(words_vectors, axis=0)\n",
        "    else:\n",
        "        sentence_vector = np.zeros(300)\n",
        "    list_ft_vectors.append(sentence_vector)\n",
        "\n",
        "X_train, X_test, y_train, y_test = train_test_split(\n",
        "    list_ft_vectors, labels, test_size=0.20, random_state=42\n",
        ")\n",
        "mlp = MLPClassifier(hidden_layer_sizes=(50), verbose=True)\n",
        "mlp = mlp.fit(X_train, y_train)\n",
        "y_pred = mlp.predict(X_test)\n",
        "\n",
        "print(accuracy_score(y_test, y_pred))\n",
        "print(classification_report(y_test, y_pred))"
      ]
    },
    {
      "cell_type": "markdown",
      "metadata": {
        "id": "mBjSrAx9xrON"
      },
      "source": [
        "**Doc2Vec (Text8)**"
      ]
    },
    {
      "cell_type": "code",
      "execution_count": null,
      "metadata": {
        "colab": {
          "base_uri": "https://localhost:8080/"
        },
        "id": "iZM2QZA5x9ET",
        "outputId": "70eb7ee0-7233-422f-bdcb-d897822ccc11"
      },
      "outputs": [
        {
          "name": "stderr",
          "output_type": "stream",
          "text": [
            "100%|██████████| 200847/200847 [02:32<00:00, 1320.85it/s]\n"
          ]
        }
      ],
      "source": [
        "# Doc2Vec\n",
        "from nltk import word_tokenize\n",
        "import numpy as np\n",
        "\n",
        "list_d2v_vectors = []\n",
        "for s in tqdm(sentences):\n",
        "    words = word_tokenize(s)\n",
        "    try:\n",
        "        sentence_vector = doc2vec_model.infer_vector(words)\n",
        "    except Exception as e:\n",
        "        print(e)\n",
        "        sentence_vector = np.zeros(300)\n",
        "\n",
        "    list_d2v_vectors.append(sentence_vector)"
      ]
    },
    {
      "cell_type": "code",
      "execution_count": null,
      "metadata": {
        "colab": {
          "base_uri": "https://localhost:8080/"
        },
        "id": "KngHWm9KyWwC",
        "outputId": "136ab7fb-73ad-40d0-afa8-ea2f278709b8"
      },
      "outputs": [
        {
          "name": "stdout",
          "output_type": "stream",
          "text": [
            "Iteration 1, loss = 3.32060992\n",
            "Iteration 2, loss = 3.24378457\n",
            "Iteration 3, loss = 3.23996465\n",
            "Iteration 4, loss = 3.23798726\n",
            "Iteration 5, loss = 3.23647417\n",
            "Iteration 6, loss = 3.23538712\n",
            "Iteration 7, loss = 3.23450545\n",
            "Iteration 8, loss = 3.23387396\n",
            "Iteration 9, loss = 3.23326831\n",
            "Iteration 10, loss = 3.23268930\n",
            "Iteration 11, loss = 3.23209980\n",
            "Iteration 12, loss = 3.23174501\n",
            "Iteration 13, loss = 3.23124310\n",
            "Iteration 14, loss = 3.23082757\n",
            "Iteration 15, loss = 3.23048963\n",
            "Iteration 16, loss = 3.23014778\n",
            "Iteration 17, loss = 3.22986866\n",
            "Iteration 18, loss = 3.22958293\n",
            "Iteration 19, loss = 3.22920412\n",
            "Iteration 20, loss = 3.22898827\n",
            "Iteration 21, loss = 3.22886572\n",
            "Iteration 22, loss = 3.22857688\n",
            "Iteration 23, loss = 3.22836714\n",
            "Iteration 24, loss = 3.22806703\n",
            "Iteration 25, loss = 3.22780451\n",
            "Iteration 26, loss = 3.22767547\n",
            "Iteration 27, loss = 3.22751127\n",
            "Iteration 28, loss = 3.22730324\n",
            "Iteration 29, loss = 3.22708308\n",
            "Iteration 30, loss = 3.22690418\n",
            "Iteration 31, loss = 3.22674716\n",
            "Iteration 32, loss = 3.22661677\n",
            "Iteration 33, loss = 3.22645319\n",
            "Iteration 34, loss = 3.22628149\n",
            "Iteration 35, loss = 3.22598406\n",
            "Iteration 36, loss = 3.22587171\n",
            "Iteration 37, loss = 3.22582252\n",
            "Iteration 38, loss = 3.22565939\n",
            "Iteration 39, loss = 3.22548113\n",
            "Iteration 40, loss = 3.22535026\n",
            "Iteration 41, loss = 3.22517839\n",
            "Iteration 42, loss = 3.22502000\n",
            "Iteration 43, loss = 3.22478712\n",
            "Iteration 44, loss = 3.22470660\n",
            "Iteration 45, loss = 3.22466710\n",
            "Iteration 46, loss = 3.22437817\n",
            "Iteration 47, loss = 3.22435287\n",
            "Iteration 48, loss = 3.22418429\n",
            "Iteration 49, loss = 3.22413266\n",
            "Iteration 50, loss = 3.22394468\n",
            "Iteration 51, loss = 3.22386789\n",
            "Iteration 52, loss = 3.22364515\n",
            "Iteration 53, loss = 3.22356531\n",
            "Iteration 54, loss = 3.22340715\n",
            "Iteration 55, loss = 3.22322900\n",
            "Iteration 56, loss = 3.22312883\n",
            "Iteration 57, loss = 3.22307788\n",
            "Iteration 58, loss = 3.22287401\n",
            "Iteration 59, loss = 3.22285812\n",
            "Iteration 60, loss = 3.22262786\n",
            "Iteration 61, loss = 3.22261961\n",
            "Iteration 62, loss = 3.22238135\n",
            "Iteration 63, loss = 3.22236605\n",
            "Iteration 64, loss = 3.22217710\n",
            "Iteration 65, loss = 3.22217687\n",
            "Iteration 66, loss = 3.22202663\n",
            "Iteration 67, loss = 3.22185414\n",
            "Iteration 68, loss = 3.22189998\n",
            "Iteration 69, loss = 3.22161277\n",
            "Iteration 70, loss = 3.22143373\n",
            "Iteration 71, loss = 3.22145623\n",
            "Iteration 72, loss = 3.22127671\n",
            "Iteration 73, loss = 3.22118166\n",
            "Iteration 74, loss = 3.22112825\n",
            "Iteration 75, loss = 3.22100321\n",
            "Iteration 76, loss = 3.22088923\n",
            "Iteration 77, loss = 3.22068322\n",
            "Iteration 78, loss = 3.22068408\n",
            "Iteration 79, loss = 3.22056787\n",
            "Iteration 80, loss = 3.22045765\n",
            "Iteration 81, loss = 3.22045865\n",
            "Iteration 82, loss = 3.22011508\n",
            "Iteration 83, loss = 3.22012636\n",
            "Iteration 84, loss = 3.22004490\n",
            "Iteration 85, loss = 3.22003857\n",
            "Iteration 86, loss = 3.21983711\n",
            "Iteration 87, loss = 3.21973157\n",
            "Iteration 88, loss = 3.21969484\n",
            "Iteration 89, loss = 3.21948283\n",
            "Iteration 90, loss = 3.21944418\n",
            "Iteration 91, loss = 3.21938087\n",
            "Iteration 92, loss = 3.21935330\n",
            "Iteration 93, loss = 3.21911435\n",
            "Iteration 94, loss = 3.21914155\n",
            "Iteration 95, loss = 3.21896333\n",
            "Iteration 96, loss = 3.21893533\n",
            "Iteration 97, loss = 3.21879030\n",
            "Iteration 98, loss = 3.21869349\n",
            "Iteration 99, loss = 3.21865061\n",
            "Iteration 100, loss = 3.21859447\n",
            "Iteration 101, loss = 3.21850895\n",
            "Iteration 102, loss = 3.21839285\n",
            "Iteration 103, loss = 3.21835267\n",
            "Iteration 104, loss = 3.21806466\n",
            "Iteration 105, loss = 3.21817940\n",
            "Iteration 106, loss = 3.21808004\n",
            "Iteration 107, loss = 3.21795273\n",
            "Iteration 108, loss = 3.21795662\n",
            "Iteration 109, loss = 3.21780947\n",
            "Iteration 110, loss = 3.21775940\n",
            "Iteration 111, loss = 3.21765369\n",
            "Iteration 112, loss = 3.21768833\n",
            "Iteration 113, loss = 3.21756236\n",
            "Iteration 114, loss = 3.21747863\n",
            "Iteration 115, loss = 3.21742899\n",
            "Iteration 116, loss = 3.21737431\n",
            "Iteration 117, loss = 3.21727568\n",
            "Iteration 118, loss = 3.21714935\n",
            "Iteration 119, loss = 3.21704974\n",
            "Iteration 120, loss = 3.21708622\n",
            "Iteration 121, loss = 3.21697795\n",
            "Iteration 122, loss = 3.21695358\n",
            "Iteration 123, loss = 3.21686235\n",
            "Iteration 124, loss = 3.21689078\n",
            "Iteration 125, loss = 3.21665240\n",
            "Iteration 126, loss = 3.21667203\n",
            "Iteration 127, loss = 3.21671163\n",
            "Iteration 128, loss = 3.21657216\n",
            "Iteration 129, loss = 3.21643372\n",
            "Iteration 130, loss = 3.21647444\n",
            "Iteration 131, loss = 3.21644263\n",
            "Iteration 132, loss = 3.21621763\n",
            "Iteration 133, loss = 3.21620180\n",
            "Iteration 134, loss = 3.21612652\n",
            "Iteration 135, loss = 3.21614949\n",
            "Iteration 136, loss = 3.21611289\n",
            "Iteration 137, loss = 3.21610875\n",
            "Iteration 138, loss = 3.21600748\n",
            "Iteration 139, loss = 3.21591325\n",
            "Iteration 140, loss = 3.21597179\n",
            "Iteration 141, loss = 3.21581106\n",
            "Iteration 142, loss = 3.21579154\n",
            "Iteration 143, loss = 3.21577195\n",
            "Iteration 144, loss = 3.21562686\n",
            "Iteration 145, loss = 3.21555921\n",
            "Iteration 146, loss = 3.21559355\n",
            "Iteration 147, loss = 3.21541444\n",
            "Iteration 148, loss = 3.21549733\n",
            "Iteration 149, loss = 3.21538030\n",
            "Iteration 150, loss = 3.21533087\n",
            "Iteration 151, loss = 3.21534404\n",
            "Iteration 152, loss = 3.21530164\n",
            "Iteration 153, loss = 3.21512867\n",
            "Iteration 154, loss = 3.21513249\n",
            "Iteration 155, loss = 3.21518355\n",
            "Iteration 156, loss = 3.21512249\n",
            "Iteration 157, loss = 3.21507935\n",
            "Iteration 158, loss = 3.21495946\n",
            "Iteration 159, loss = 3.21492881\n",
            "Iteration 160, loss = 3.21493600\n",
            "Iteration 161, loss = 3.21482486\n",
            "Iteration 162, loss = 3.21489717\n",
            "Iteration 163, loss = 3.21470340\n",
            "Iteration 164, loss = 3.21486254\n",
            "Iteration 165, loss = 3.21470107\n",
            "Iteration 166, loss = 3.21467173\n",
            "Iteration 167, loss = 3.21460227\n",
            "Iteration 168, loss = 3.21454362\n",
            "Iteration 169, loss = 3.21457347\n",
            "Iteration 170, loss = 3.21434685\n",
            "Iteration 171, loss = 3.21432798\n",
            "Iteration 172, loss = 3.21437189\n",
            "Iteration 173, loss = 3.21427282\n",
            "Iteration 174, loss = 3.21438343\n",
            "Iteration 175, loss = 3.21425219\n",
            "Iteration 176, loss = 3.21417555\n",
            "Iteration 177, loss = 3.21421948\n",
            "Iteration 178, loss = 3.21409757\n",
            "Iteration 179, loss = 3.21408343\n",
            "Iteration 180, loss = 3.21401580\n",
            "Iteration 181, loss = 3.21401981\n",
            "Training loss did not improve more than tol=0.000100 for 10 consecutive epochs. Stopping.\n",
            "0.18615882499377645\n"
          ]
        },
        {
          "name": "stderr",
          "output_type": "stream",
          "text": [
            "/usr/local/lib/python3.10/dist-packages/sklearn/metrics/_classification.py:1344: UndefinedMetricWarning: Precision and F-score are ill-defined and being set to 0.0 in labels with no predicted samples. Use `zero_division` parameter to control this behavior.\n",
            "  _warn_prf(average, modifier, msg_start, len(result))\n"
          ]
        },
        {
          "name": "stdout",
          "output_type": "stream",
          "text": [
            "                precision    recall  f1-score   support\n",
            "\n",
            "          ARTS       0.08      0.00      0.01       314\n",
            "ARTS & CULTURE       0.00      0.00      0.00       272\n",
            "  BLACK VOICES       0.00      0.00      0.00       874\n",
            "      BUSINESS       0.05      0.00      0.00      1139\n",
            "       COLLEGE       0.00      0.00      0.00       216\n",
            "        COMEDY       0.11      0.00      0.00      1082\n",
            "         CRIME       0.00      0.00      0.00       682\n",
            "CULTURE & ARTS       0.00      0.00      0.00       208\n",
            "       DIVORCE       0.00      0.00      0.00       694\n",
            "     EDUCATION       1.00      0.00      0.01       207\n",
            " ENTERTAINMENT       0.11      0.01      0.01      3182\n",
            "   ENVIRONMENT       0.00      0.00      0.00       255\n",
            "         FIFTY       0.00      0.00      0.00       305\n",
            "  FOOD & DRINK       0.12      0.00      0.00      1301\n",
            "     GOOD NEWS       0.00      0.00      0.00       273\n",
            "         GREEN       0.00      0.00      0.00       518\n",
            "HEALTHY LIVING       0.00      0.00      0.00      1327\n",
            " HOME & LIVING       0.00      0.00      0.00       874\n",
            "        IMPACT       0.00      0.00      0.00       740\n",
            " LATINO VOICES       0.00      0.00      0.00       205\n",
            "         MEDIA       0.00      0.00      0.00       551\n",
            "         MONEY       0.00      0.00      0.00       306\n",
            "     PARENTING       0.16      0.01      0.03      1780\n",
            "       PARENTS       0.00      0.00      0.00       804\n",
            "      POLITICS       0.18      0.93      0.31      6576\n",
            "  QUEER VOICES       0.00      0.00      0.00      1232\n",
            "      RELIGION       0.00      0.00      0.00       512\n",
            "       SCIENCE       0.00      0.00      0.00       431\n",
            "        SPORTS       0.00      0.00      0.00       986\n",
            "         STYLE       0.00      0.00      0.00       468\n",
            "STYLE & BEAUTY       0.00      0.00      0.00      1874\n",
            "         TASTE       0.00      0.00      0.00       433\n",
            "          TECH       0.00      0.00      0.00       387\n",
            " THE WORLDPOST       0.00      0.00      0.00       733\n",
            "        TRAVEL       0.14      0.02      0.03      2001\n",
            "      WEDDINGS       0.00      0.00      0.00       752\n",
            "    WEIRD NEWS       0.00      0.00      0.00       514\n",
            "      WELLNESS       0.20      0.37      0.26      3564\n",
            "         WOMEN       0.00      0.00      0.00       690\n",
            "    WORLD NEWS       0.00      0.00      0.00       427\n",
            "     WORLDPOST       0.00      0.00      0.00       481\n",
            "\n",
            "      accuracy                           0.19     40170\n",
            "     macro avg       0.05      0.03      0.02     40170\n",
            "  weighted avg       0.08      0.19      0.08     40170\n",
            "\n"
          ]
        },
        {
          "name": "stderr",
          "output_type": "stream",
          "text": [
            "/usr/local/lib/python3.10/dist-packages/sklearn/metrics/_classification.py:1344: UndefinedMetricWarning: Precision and F-score are ill-defined and being set to 0.0 in labels with no predicted samples. Use `zero_division` parameter to control this behavior.\n",
            "  _warn_prf(average, modifier, msg_start, len(result))\n",
            "/usr/local/lib/python3.10/dist-packages/sklearn/metrics/_classification.py:1344: UndefinedMetricWarning: Precision and F-score are ill-defined and being set to 0.0 in labels with no predicted samples. Use `zero_division` parameter to control this behavior.\n",
            "  _warn_prf(average, modifier, msg_start, len(result))\n"
          ]
        }
      ],
      "source": [
        "X_train, X_test, y_train, y_test = train_test_split(\n",
        "    list_d2v_vectors, labels, test_size=0.20, random_state=42\n",
        ")\n",
        "mlp = MLPClassifier(hidden_layer_sizes=(50), verbose=True)\n",
        "mlp = mlp.fit(X_train, y_train)\n",
        "y_pred = mlp.predict(X_test)\n",
        "\n",
        "print(accuracy_score(y_test, y_pred))\n",
        "print(classification_report(y_test, y_pred))"
      ]
    },
    {
      "cell_type": "markdown",
      "metadata": {
        "id": "t7DkgKMcxrIy"
      },
      "source": [
        "**InferSent**"
      ]
    },
    {
      "cell_type": "code",
      "execution_count": 14,
      "metadata": {
        "colab": {
          "base_uri": "https://localhost:8080/"
        },
        "id": "M8RfB2NqrsCi",
        "outputId": "4c27b87a-b247-47a1-b2f8-1d658c2bdfbf"
      },
      "outputs": [
        {
          "name": "stderr",
          "output_type": "stream",
          "text": [
            "[nltk_data] Downloading package punkt to /root/nltk_data...\n",
            "[nltk_data]   Package punkt is already up-to-date!\n"
          ]
        },
        {
          "name": "stdout",
          "output_type": "stream",
          "text": [
            "Found 13646(/15245) words with w2v vectors\n",
            "Vocab size : 13646\n",
            "Iteration 1, loss = 2.26206645\n",
            "Iteration 2, loss = 1.77062995\n",
            "Iteration 3, loss = 1.56431892\n",
            "Iteration 4, loss = 1.42191421\n",
            "Iteration 5, loss = 1.31684641\n",
            "Iteration 6, loss = 1.23298598\n",
            "Iteration 7, loss = 1.16323816\n",
            "Iteration 8, loss = 1.10335614\n",
            "Iteration 9, loss = 1.04740975\n",
            "Iteration 10, loss = 0.99942179\n",
            "Iteration 11, loss = 0.95425177\n",
            "Iteration 12, loss = 0.91252584\n",
            "Iteration 13, loss = 0.87618822\n",
            "Iteration 14, loss = 0.83649724\n",
            "Iteration 15, loss = 0.80598241\n",
            "Iteration 16, loss = 0.77426202\n",
            "Iteration 17, loss = 0.74632017\n",
            "Iteration 18, loss = 0.71954325\n",
            "Iteration 19, loss = 0.69045799\n",
            "Iteration 20, loss = 0.66599044\n",
            "Iteration 21, loss = 0.64391445\n",
            "Iteration 22, loss = 0.62142377\n",
            "Iteration 23, loss = 0.60238641\n",
            "Iteration 24, loss = 0.57603642\n",
            "Iteration 25, loss = 0.55841694\n",
            "Iteration 26, loss = 0.53797434\n",
            "Iteration 27, loss = 0.52157096\n",
            "Iteration 28, loss = 0.50192538\n",
            "Iteration 29, loss = 0.48230846\n",
            "Iteration 30, loss = 0.46697122\n",
            "Iteration 31, loss = 0.44988503\n",
            "Iteration 32, loss = 0.43293994\n",
            "Iteration 33, loss = 0.41672066\n",
            "Iteration 34, loss = 0.40234934\n",
            "Iteration 35, loss = 0.38874174\n",
            "Iteration 36, loss = 0.37407832\n",
            "Iteration 37, loss = 0.36046599\n",
            "Iteration 38, loss = 0.34566578\n",
            "Iteration 39, loss = 0.33404924\n",
            "Iteration 40, loss = 0.31940836\n",
            "Iteration 41, loss = 0.30920215\n",
            "Iteration 42, loss = 0.29662972\n",
            "Iteration 43, loss = 0.28696188\n",
            "Iteration 44, loss = 0.27383478\n",
            "Iteration 45, loss = 0.26593317\n",
            "Iteration 46, loss = 0.25414043\n",
            "Iteration 47, loss = 0.24408422\n",
            "Iteration 48, loss = 0.23333351\n",
            "Iteration 49, loss = 0.22374524\n",
            "Iteration 50, loss = 0.21470416\n",
            "Iteration 51, loss = 0.20751657\n",
            "Iteration 52, loss = 0.19753761\n",
            "Iteration 53, loss = 0.18992165\n",
            "Iteration 54, loss = 0.18105186\n",
            "Iteration 55, loss = 0.17497546\n",
            "Iteration 56, loss = 0.16796927\n",
            "Iteration 57, loss = 0.16192093\n",
            "Iteration 58, loss = 0.15413917\n",
            "Iteration 59, loss = 0.14704120\n",
            "Iteration 60, loss = 0.14137552\n",
            "Iteration 61, loss = 0.13635075\n",
            "Iteration 62, loss = 0.13112694\n",
            "Iteration 63, loss = 0.12517448\n",
            "Iteration 64, loss = 0.12003451\n",
            "Iteration 65, loss = 0.11547617\n",
            "Iteration 66, loss = 0.11026100\n",
            "Iteration 67, loss = 0.10532049\n",
            "Iteration 68, loss = 0.10163726\n",
            "Iteration 69, loss = 0.09766264\n",
            "Iteration 70, loss = 0.09334104\n",
            "Iteration 71, loss = 0.09025062\n",
            "Iteration 72, loss = 0.08600115\n",
            "Iteration 73, loss = 0.08337049\n",
            "Iteration 74, loss = 0.08026172\n",
            "Iteration 75, loss = 0.07678687\n",
            "Iteration 76, loss = 0.07405490\n",
            "Iteration 77, loss = 0.07204595\n",
            "Iteration 78, loss = 0.06847252\n",
            "Iteration 79, loss = 0.06624967\n",
            "Iteration 80, loss = 0.06401548\n",
            "Iteration 81, loss = 0.06127777\n",
            "Iteration 82, loss = 0.05863465\n",
            "Iteration 83, loss = 0.05666682\n",
            "Iteration 84, loss = 0.05575292\n",
            "Iteration 85, loss = 0.05306849\n",
            "Iteration 86, loss = 0.05253309\n",
            "Iteration 87, loss = 0.04957073\n",
            "Iteration 88, loss = 0.04769012\n",
            "Iteration 89, loss = 0.04620687\n",
            "Iteration 90, loss = 0.04542526\n",
            "Iteration 91, loss = 0.04341244\n",
            "Iteration 92, loss = 0.04225535\n",
            "Iteration 93, loss = 0.04043839\n",
            "Iteration 94, loss = 0.03947339\n",
            "Iteration 95, loss = 0.03788581\n",
            "Iteration 96, loss = 0.03715567\n",
            "Iteration 97, loss = 0.03557736\n",
            "Iteration 98, loss = 0.03442817\n",
            "Iteration 99, loss = 0.03330833\n",
            "Iteration 100, loss = 0.03285564\n",
            "Iteration 101, loss = 0.03167407\n",
            "Iteration 102, loss = 0.03053193\n",
            "Iteration 103, loss = 0.02974516\n",
            "Iteration 104, loss = 0.02907130\n",
            "Iteration 105, loss = 0.02801563\n",
            "Iteration 106, loss = 0.02732710\n",
            "Iteration 107, loss = 0.02674781\n",
            "Iteration 108, loss = 0.02597847\n",
            "Iteration 109, loss = 0.02507477\n",
            "Iteration 110, loss = 0.02434780\n",
            "Iteration 111, loss = 0.02384017\n",
            "Iteration 112, loss = 0.02315101\n",
            "Iteration 113, loss = 0.02247339\n",
            "Iteration 114, loss = 0.02180879\n",
            "Iteration 115, loss = 0.02130229\n",
            "Iteration 116, loss = 0.02082926\n",
            "Iteration 117, loss = 0.02041850\n",
            "Iteration 118, loss = 0.01968364\n",
            "Iteration 119, loss = 0.01927030\n",
            "Iteration 120, loss = 0.01872334\n",
            "Iteration 121, loss = 0.01833521\n",
            "Iteration 122, loss = 0.01794609\n",
            "Iteration 123, loss = 0.01746637\n",
            "Iteration 124, loss = 0.01710986\n",
            "Iteration 125, loss = 0.01666759\n",
            "Iteration 126, loss = 0.01627031\n",
            "Iteration 127, loss = 0.01598016\n",
            "Iteration 128, loss = 0.01557586\n",
            "Iteration 129, loss = 0.01531028\n",
            "Iteration 130, loss = 0.01496601\n",
            "Iteration 131, loss = 0.01461396\n",
            "Iteration 132, loss = 0.01424558\n",
            "Iteration 133, loss = 0.01395311\n",
            "Iteration 134, loss = 0.01368270\n",
            "Iteration 135, loss = 0.01336757\n",
            "Iteration 136, loss = 0.01318525\n",
            "Iteration 137, loss = 0.01286077\n",
            "Iteration 138, loss = 0.01253319\n",
            "Iteration 139, loss = 0.01241643\n",
            "Iteration 140, loss = 0.01213062\n",
            "Iteration 141, loss = 0.01182762\n",
            "Iteration 142, loss = 0.01155260\n",
            "Iteration 143, loss = 0.01136685\n",
            "Iteration 144, loss = 0.01119432\n",
            "Iteration 145, loss = 0.01102739\n",
            "Iteration 146, loss = 0.01073756\n",
            "Iteration 147, loss = 0.01063263\n",
            "Iteration 148, loss = 0.01043205\n",
            "Iteration 149, loss = 0.01019318\n",
            "Iteration 150, loss = 0.01002706\n",
            "Iteration 151, loss = 0.00983600\n",
            "Iteration 152, loss = 0.00968596\n",
            "Iteration 153, loss = 0.00955036\n",
            "Iteration 154, loss = 0.00938623\n",
            "Iteration 155, loss = 0.00921854\n",
            "Iteration 156, loss = 0.00907543\n",
            "Iteration 157, loss = 0.00895339\n",
            "Iteration 158, loss = 0.00877423\n",
            "Iteration 159, loss = 0.00870621\n",
            "Iteration 160, loss = 0.00850051\n",
            "Iteration 161, loss = 0.00838468\n",
            "Iteration 162, loss = 0.00824467\n",
            "Iteration 163, loss = 0.00814513\n",
            "Iteration 164, loss = 0.00815424\n",
            "Iteration 165, loss = 0.00795387\n",
            "Iteration 166, loss = 0.00778096\n",
            "Iteration 167, loss = 0.00776556\n",
            "Iteration 168, loss = 0.00759805\n",
            "Iteration 169, loss = 0.00750309\n",
            "Iteration 170, loss = 0.00738050\n",
            "Iteration 171, loss = 0.00729164\n",
            "Iteration 172, loss = 0.00731807\n",
            "Iteration 173, loss = 0.00709735\n",
            "Iteration 174, loss = 0.00700353\n",
            "Iteration 175, loss = 0.00691336\n",
            "Iteration 176, loss = 0.00684310\n",
            "Iteration 177, loss = 0.00674333\n",
            "Iteration 178, loss = 0.00669484\n",
            "Iteration 179, loss = 0.00662962\n",
            "Iteration 180, loss = 0.00653773\n",
            "Iteration 181, loss = 0.00648534\n",
            "Iteration 182, loss = 0.00638131\n",
            "Iteration 183, loss = 0.00631050\n",
            "Iteration 184, loss = 0.00625312\n",
            "Iteration 185, loss = 0.00616838\n",
            "Iteration 186, loss = 0.00611412\n",
            "Iteration 187, loss = 0.00606990\n",
            "Iteration 188, loss = 0.00601438\n",
            "Iteration 189, loss = 0.00593073\n",
            "Iteration 190, loss = 0.00588499\n",
            "Iteration 191, loss = 0.00583862\n",
            "Iteration 192, loss = 0.00578072\n",
            "Iteration 193, loss = 0.00573399\n",
            "Training loss did not improve more than tol=0.000100 for 10 consecutive epochs. Stopping.\n",
            "0.691\n",
            "                precision    recall  f1-score   support\n",
            "\n",
            "ARTS & CULTURE       1.00      0.11      0.20         9\n",
            "  BLACK VOICES       0.55      0.55      0.55        95\n",
            "      BUSINESS       0.45      0.19      0.27        26\n",
            "        COMEDY       0.69      0.64      0.66        96\n",
            "         CRIME       0.45      0.36      0.40        42\n",
            "     EDUCATION       0.40      0.29      0.33         7\n",
            " ENTERTAINMENT       0.64      0.77      0.70       376\n",
            "         GREEN       0.67      0.50      0.57         8\n",
            "HEALTHY LIVING       0.57      0.29      0.38        14\n",
            "        IMPACT       0.67      0.24      0.35        17\n",
            " LATINO VOICES       0.54      0.39      0.45        18\n",
            "         MEDIA       0.56      0.49      0.52        57\n",
            "       PARENTS       0.89      0.44      0.59        18\n",
            "      POLITICS       0.79      0.88      0.83       736\n",
            "  QUEER VOICES       0.68      0.56      0.62       100\n",
            "      RELIGION       0.57      0.44      0.50        18\n",
            "       SCIENCE       0.00      0.00      0.00         5\n",
            "        SPORTS       0.74      0.59      0.66        83\n",
            "         STYLE       0.50      0.23      0.32        13\n",
            "         TASTE       1.00      0.40      0.57         5\n",
            "          TECH       0.25      0.20      0.22        10\n",
            "        TRAVEL       0.73      0.53      0.62        15\n",
            "    WEIRD NEWS       0.51      0.42      0.46        53\n",
            "         WOMEN       0.40      0.33      0.36        51\n",
            "    WORLD NEWS       0.68      0.70      0.69       128\n",
            "\n",
            "      accuracy                           0.69      2000\n",
            "     macro avg       0.60      0.42      0.47      2000\n",
            "  weighted avg       0.68      0.69      0.68      2000\n",
            "\n"
          ]
        }
      ],
      "source": [
        "from nltk import word_tokenize\n",
        "import nltk\n",
        "\n",
        "nltk.download(\"punkt\")\n",
        "\n",
        "infersent.build_vocab(sentences[:10_000], tokenize=True)\n",
        "infersent_embeddings = infersent.encode(sentences[:10_000], tokenize=True)\n",
        "\n",
        "X_train, X_test, y_train, y_test = train_test_split(\n",
        "    infersent_embeddings, labels[:10_000], test_size=0.20, random_state=42\n",
        ")\n",
        "mlp = MLPClassifier(hidden_layer_sizes=(50), verbose=True)\n",
        "mlp = mlp.fit(X_train, y_train)\n",
        "y_pred = mlp.predict(X_test)\n",
        "print(accuracy_score(y_test, y_pred))\n",
        "print(classification_report(y_test, y_pred))"
      ]
    }
  ],
  "metadata": {
    "accelerator": "GPU",
    "colab": {
      "provenance": []
    },
    "kernelspec": {
      "display_name": "Python 3",
      "name": "python3"
    },
    "language_info": {
      "codemirror_mode": {
        "name": "ipython",
        "version": 3
      },
      "file_extension": ".py",
      "mimetype": "text/x-python",
      "name": "python",
      "nbconvert_exporter": "python",
      "pygments_lexer": "ipython3",
      "version": "3.11.6"
    }
  },
  "nbformat": 4,
  "nbformat_minor": 0
}
